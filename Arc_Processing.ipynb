{
 "cells": [
  {
   "cell_type": "code",
   "execution_count": 1,
   "metadata": {},
   "outputs": [],
   "source": [
    "import os"
   ]
  },
  {
   "cell_type": "code",
   "execution_count": 2,
   "metadata": {},
   "outputs": [],
   "source": [
    "#may need to specify a starting path as ARC defualts the directory to whatever folder the Arc file is in, not this script\n",
    "#os.chdir(path to scripts directory)"
   ]
  },
  {
   "cell_type": "code",
   "execution_count": 3,
   "metadata": {},
   "outputs": [],
   "source": [
    "os.chdir(r'D:\\Documents\\OwnershipMap\\New_Script\\Test_ENV\\SCRIPTS')"
   ]
  },
  {
   "cell_type": "code",
   "execution_count": 4,
   "metadata": {},
   "outputs": [],
   "source": [
    "arcpy.env.workspace = os.path.dirname(os.getcwd())+'\\\\INPUTS\\\\State_GDBs'"
   ]
  },
  {
   "cell_type": "code",
   "execution_count": 5,
   "metadata": {},
   "outputs": [],
   "source": [
    "#for loop through everything in the State_GDBs folder and export to intermidiate folder"
   ]
  },
  {
   "cell_type": "code",
   "execution_count": 6,
   "metadata": {},
   "outputs": [],
   "source": [
    "#1. Create Directories\n",
    "#2. Convert GDB Feature Classes to GeoJSON\n",
    "#3. Rasterizes Polygons with Parcel IDs\n",
    "#4. Reclassifies NLCD\n",
    "#5. Preserves No Data Values between parcels\n",
    "#6. Adds IDs and NLCD together\n",
    "\n",
    "for gdb in arcpy.ListFiles():\n",
    "    name = gdb.split('.')[0]\n",
    "    arcpy.env.workspace = arcpy.env.workspace+'\\\\'+ name+'.gdb'\n",
    "    arcpy.CreateFolder_management(os.path.dirname(os.getcwd())+'\\\\OUTPUTS\\\\INTERMEDIATE\\\\', name)\n",
    "    arcpy.CreateFolder_management(os.path.dirname(os.getcwd())+'\\\\OUTPUTS\\\\FINAL\\\\RASTERS\\\\', name)\n",
    "    outpath = os.path.dirname(os.getcwd())+'\\\\OUTPUTS\\\\INTERMEDIATE'+'\\\\'+name\n",
    "    parcels = [i for i in arcpy.ListFeatureClasses() if i.startswith('Par')][0]\n",
    "    points = [i for i in arcpy.ListFeatureClasses() if i.startswith('Prop')][0]\n",
    "    arcpy.FeaturesToJSON_conversion(parcels, outpath+'\\\\'+name+\"_parcel.json\", \"FORMATTED\", \"\", \"\", \"GEOJSON\", \"WGS84\")\n",
    "    arcpy.FeaturesToJSON_conversion(points, outpath+'\\\\'+name+\"_points.json\", \"FORMATTED\", \"\", \"\", \"GEOJSON\", \"WGS84\")\n",
    "    arcpy.conversion.PolygonToRaster(in_features=arcpy.env.workspace +'\\\\'+parcels, \n",
    "                                     value_field=\"PRCLDMPID\", \n",
    "                                     out_rasterdataset=outpath+'\\\\'+name+\"_Parcel_IDs.tif\", \n",
    "                                     cell_assignment=\"CELL_CENTER\", \n",
    "                                     priority_field=\"NONE\", \n",
    "                                     cellsize = os.path.dirname(os.getcwd())+'\\\\INPUTS\\\\Reference_Raster.tif', \n",
    "                                     build_rat=\"BUILD\")\n",
    "    arcpy.TableToTable_conversion(outpath+'\\\\'+name+\"_Parcel_IDs.tif\", os.path.dirname(os.getcwd())+'\\\\OUTPUTS\\\\INTERMEDIATE\\\\'+name, \"ID_Dictionary.csv\")\n",
    "    arcpy.management.Clip(os.path.dirname(os.getcwd())+'//INPUTS//NLCD_10m_NAD83.tif',\n",
    "                          \"\",\n",
    "                          outpath+'//'+name+\"_NLCD.tif\",\n",
    "                          parcels,\n",
    "                          \"255\", \n",
    "                          \"NONE\", \n",
    "                          \"NO_MAINTAIN_EXTENT\")\n",
    "    remap = arcpy.sa.Reclassify(outpath+'//'+name+\"_NLCD.tif\", \n",
    "                           \"NLCD_Land\", \n",
    "                           \"Unclassified -99999;'Open Water' 100000000;'Developed, Open Space' 200000000;'Developed, Low Intensity' 300000000;'Developed, Medium Intensity' 400000000;'Developed, High Intensity' 500000000;'Barren Land' 600000000;'Deciduous Forest' 700000000;'Evergreen Forest' 800000000;'Mixed Forest' 900000000;Shrub/Scrub 110000000;Herbaceuous 120000000;Hay/Pasture 130000000;'Cultivated Crops' 140000000;'Woody Wetlands' 150000000;'Emergent Herbaceuous Wetlands' 160000000\", \n",
    "                           \"DATA\")      \n",
    "    #(arcpy.sa.Con(arcpy.sa.IsNull(outpath+'\\\\'+name+\"_Parcel_IDs.tif\"), 0, outpath+'\\\\'+name+\"_Parcel_IDs.tif\")).save(outpath+'\\\\'+name+\"_Parcel_IDs_Reclassed.tif\")\n",
    "    (arcpy.sa.Con(arcpy.sa.IsNull(outpath+'\\\\'+name+\"_Parcel_IDs.tif\"), 0, outpath+'\\\\'+name+\"_Parcel_IDs.tif\")).save(os.path.dirname(os.getcwd())+'\\\\OUTPUTS\\\\FINAL\\\\RASTERS\\\\'+name+'\\\\'+name+\"_Parcel_IDs.tif\")\n",
    "    #(outpath+'\\\\'+name+\"_Parcel_IDs_Reclassed.tif\" + remap).save(os.path.dirname(os.getcwd())+'\\\\OUTPUTS\\\\INTERMEDIATE\\\\'+name+'\\\\ID_NLCD_temp.tif')\n",
    "    (os.path.dirname(os.getcwd())+'\\\\OUTPUTS\\\\FINAL\\\\RASTERS\\\\'+name+'\\\\'+name+\"_Parcel_IDs.tif\" + remap).save(os.path.dirname(os.getcwd())+'\\\\OUTPUTS\\\\INTERMEDIATE\\\\'+name+'\\\\ID_NLCD_temp.tif')\n",
    "    arcpy.env.workspace = os.path.dirname(os.getcwd())+'\\\\INPUTS\\\\State_GDBs'"
   ]
  },
  {
   "cell_type": "code",
   "execution_count": null,
   "metadata": {},
   "outputs": [],
   "source": []
  }
 ],
 "metadata": {
  "kernelspec": {
   "display_name": "ArcGISPro",
   "language": "Python",
   "name": "python3"
  },
  "language_info": {
   "file_extension": ".py",
   "name": "python",
   "version": "3"
  }
 },
 "nbformat": 4,
 "nbformat_minor": 2
}
