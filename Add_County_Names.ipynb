{
 "cells": [
  {
   "cell_type": "code",
   "execution_count": 43,
   "id": "7aee644a",
   "metadata": {},
   "outputs": [],
   "source": [
    "#This file spatial overlayes the DMP parcels with us census county boundaries\n",
    "def add_county(x, path):\n",
    "    import os\n",
    "    import geopandas as gpd\n",
    "    import pandas as pd\n",
    "    parcels = gpd.read_file(path+'\\\\'+x+\"_parcel.geojson\")\n",
    "    counties=gpd.read_file(os.path.dirname(os.getcwd())+'\\\\INPUTS\\\\tl_2020_us_county\\\\tl_2020_us_county.shp')\n",
    "    counties = counties.to_crs(4326)\n",
    "    gdf = gpd.sjoin(parcels, counties, how=\"inner\", op='within')\n",
    "    gdf = gdf.rename(columns={'NAME': 'COUNTY_NAME', 'COUNTYFP' : 'COUNTY_FIPS'})\n",
    "    gdf = gdf.drop(['index_right', 'STATEFP', 'COUNTYNS', 'GEOID', 'NAMELSAD', 'LSAD', 'CLASSFP', 'MTFCC', 'CSAFP', 'CBSAFP',\n",
    "       'METDIVFP', 'FUNCSTAT', 'ALAND', 'AWATER', 'INTPTLAT', 'INTPTLON'], axis = 1)\n",
    "    gdf.to_file(path+'\\\\'+x+\"_parcel_v2.geojson\", driver='GeoJSON')"
   ]
  }
 ],
 "metadata": {
  "kernelspec": {
   "display_name": "Python 3",
   "language": "python",
   "name": "python3"
  },
  "language_info": {
   "codemirror_mode": {
    "name": "ipython",
    "version": 3
   },
   "file_extension": ".py",
   "mimetype": "text/x-python",
   "name": "python",
   "nbconvert_exporter": "python",
   "pygments_lexer": "ipython3",
   "version": "3.8.11"
  }
 },
 "nbformat": 4,
 "nbformat_minor": 5
}
