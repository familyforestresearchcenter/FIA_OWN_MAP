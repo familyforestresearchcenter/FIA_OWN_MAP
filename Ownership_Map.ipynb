{
 "cells": [
  {
   "cell_type": "code",
   "execution_count": 1,
   "id": "d5daa5c5",
   "metadata": {},
   "outputs": [],
   "source": [
    "import os\n",
    "import pandas as pd\n",
    "import numpy as np\n",
    "import rasterio"
   ]
  },
  {
   "cell_type": "code",
   "execution_count": 2,
   "id": "74ad4855",
   "metadata": {},
   "outputs": [
    {
     "name": "stderr",
     "output_type": "stream",
     "text": [
      "C:\\Users\\harri\\Anaconda3\\lib\\site-packages\\IPython\\core\\interactiveshell.py:3441: DtypeWarning: Columns (4,15,18,22,24) have mixed types.Specify dtype option on import or set low_memory=False.\n",
      "  exec(code_obj, self.user_global_ns, self.user_ns)\n"
     ]
    }
   ],
   "source": [
    "table = pd.read_csv(os.path.dirname(os.getcwd())+'\\\\OUTPUTS\\\\INTERMEDIATE\\\\classified_state_temp.csv')\n",
    "state_name = table['State'].unique()[0]"
   ]
  },
  {
   "cell_type": "code",
   "execution_count": 3,
   "id": "726e01a2",
   "metadata": {},
   "outputs": [],
   "source": [
    "ds = rasterio.open(os.path.dirname(os.getcwd())+'\\\\OUTPUTS\\\\INTERMEDIATE\\\\'+state_name+'\\\\ID_NLCD_temp.tif')"
   ]
  },
  {
   "cell_type": "code",
   "execution_count": 4,
   "id": "bb646db2",
   "metadata": {},
   "outputs": [],
   "source": [
    "ar =ds.read(1)"
   ]
  },
  {
   "cell_type": "code",
   "execution_count": 5,
   "id": "e90b8fa9",
   "metadata": {},
   "outputs": [
    {
     "data": {
      "text/plain": [
       "array([100000000, 100000289, 100000863, ..., 900419473, 900419476,\n",
       "       900419494])"
      ]
     },
     "execution_count": 5,
     "metadata": {},
     "output_type": "execute_result"
    }
   ],
   "source": [
    "np.unique(ar)"
   ]
  },
  {
   "cell_type": "code",
   "execution_count": 6,
   "id": "9385009a",
   "metadata": {},
   "outputs": [],
   "source": [
    "ar = ar.astype(str)"
   ]
  },
  {
   "cell_type": "code",
   "execution_count": 7,
   "id": "d91908dd",
   "metadata": {},
   "outputs": [],
   "source": [
    "f = lambda x: x[:2]\n",
    "vfunc = np.vectorize(f)\n",
    "lulc = vfunc(ar)\n",
    "\n",
    "y = lambda x: x[-6:]\n",
    "yfunc = np.vectorize(y)\n",
    "parcels = yfunc(ar)"
   ]
  },
  {
   "cell_type": "code",
   "execution_count": 8,
   "id": "4f58d87b",
   "metadata": {},
   "outputs": [],
   "source": [
    "table['FFRC_LOCAL_ID'] = [(i+1) for i in list(table.index)]"
   ]
  },
  {
   "cell_type": "code",
   "execution_count": 9,
   "id": "79636221",
   "metadata": {},
   "outputs": [],
   "source": [
    "cross = pd.read_csv(os.path.dirname(os.getcwd())+'\\\\OUTPUTS\\\\INTERMEDIATE\\\\'+state_name+'\\\\ID_Dictionary.csv')"
   ]
  },
  {
   "cell_type": "code",
   "execution_count": 15,
   "id": "01f20413",
   "metadata": {},
   "outputs": [
    {
     "data": {
      "text/plain": [
       "420317"
      ]
     },
     "execution_count": 15,
     "metadata": {},
     "output_type": "execute_result"
    }
   ],
   "source": [
    "len(cross)"
   ]
  },
  {
   "cell_type": "code",
   "execution_count": 18,
   "id": "156d890a",
   "metadata": {},
   "outputs": [
    {
     "data": {
      "text/html": [
       "<div>\n",
       "<style scoped>\n",
       "    .dataframe tbody tr th:only-of-type {\n",
       "        vertical-align: middle;\n",
       "    }\n",
       "\n",
       "    .dataframe tbody tr th {\n",
       "        vertical-align: top;\n",
       "    }\n",
       "\n",
       "    .dataframe thead th {\n",
       "        text-align: right;\n",
       "    }\n",
       "</style>\n",
       "<table border=\"1\" class=\"dataframe\">\n",
       "  <thead>\n",
       "    <tr style=\"text-align: right;\">\n",
       "      <th></th>\n",
       "      <th>OID_</th>\n",
       "      <th>Value</th>\n",
       "      <th>Count</th>\n",
       "      <th>PRCLDMPID</th>\n",
       "    </tr>\n",
       "  </thead>\n",
       "  <tbody>\n",
       "    <tr>\n",
       "      <th>0</th>\n",
       "      <td>0</td>\n",
       "      <td>1</td>\n",
       "      <td>42.0</td>\n",
       "      <td>100660192_161700952</td>\n",
       "    </tr>\n",
       "    <tr>\n",
       "      <th>1</th>\n",
       "      <td>1</td>\n",
       "      <td>2</td>\n",
       "      <td>19.0</td>\n",
       "      <td>100660192_161700951</td>\n",
       "    </tr>\n",
       "    <tr>\n",
       "      <th>2</th>\n",
       "      <td>2</td>\n",
       "      <td>3</td>\n",
       "      <td>30.0</td>\n",
       "      <td>100660192_161700950</td>\n",
       "    </tr>\n",
       "    <tr>\n",
       "      <th>3</th>\n",
       "      <td>3</td>\n",
       "      <td>4</td>\n",
       "      <td>37.0</td>\n",
       "      <td>100660192_161700949</td>\n",
       "    </tr>\n",
       "    <tr>\n",
       "      <th>4</th>\n",
       "      <td>4</td>\n",
       "      <td>5</td>\n",
       "      <td>32.0</td>\n",
       "      <td>100660192_161700948</td>\n",
       "    </tr>\n",
       "    <tr>\n",
       "      <th>...</th>\n",
       "      <td>...</td>\n",
       "      <td>...</td>\n",
       "      <td>...</td>\n",
       "      <td>...</td>\n",
       "    </tr>\n",
       "    <tr>\n",
       "      <th>420312</th>\n",
       "      <td>420312</td>\n",
       "      <td>423047</td>\n",
       "      <td>5.0</td>\n",
       "      <td>100660192_157280765</td>\n",
       "    </tr>\n",
       "    <tr>\n",
       "      <th>420313</th>\n",
       "      <td>420313</td>\n",
       "      <td>423048</td>\n",
       "      <td>25.0</td>\n",
       "      <td>100660192_157280766</td>\n",
       "    </tr>\n",
       "    <tr>\n",
       "      <th>420314</th>\n",
       "      <td>420314</td>\n",
       "      <td>423049</td>\n",
       "      <td>9.0</td>\n",
       "      <td>100660192_157280792</td>\n",
       "    </tr>\n",
       "    <tr>\n",
       "      <th>420315</th>\n",
       "      <td>420315</td>\n",
       "      <td>423050</td>\n",
       "      <td>9.0</td>\n",
       "      <td>100660192_157280767</td>\n",
       "    </tr>\n",
       "    <tr>\n",
       "      <th>420316</th>\n",
       "      <td>420316</td>\n",
       "      <td>423051</td>\n",
       "      <td>12.0</td>\n",
       "      <td>100660192_157280768</td>\n",
       "    </tr>\n",
       "  </tbody>\n",
       "</table>\n",
       "<p>420317 rows × 4 columns</p>\n",
       "</div>"
      ],
      "text/plain": [
       "          OID_   Value  Count            PRCLDMPID\n",
       "0            0       1   42.0  100660192_161700952\n",
       "1            1       2   19.0  100660192_161700951\n",
       "2            2       3   30.0  100660192_161700950\n",
       "3            3       4   37.0  100660192_161700949\n",
       "4            4       5   32.0  100660192_161700948\n",
       "...        ...     ...    ...                  ...\n",
       "420312  420312  423047    5.0  100660192_157280765\n",
       "420313  420313  423048   25.0  100660192_157280766\n",
       "420314  420314  423049    9.0  100660192_157280792\n",
       "420315  420315  423050    9.0  100660192_157280767\n",
       "420316  420316  423051   12.0  100660192_157280768\n",
       "\n",
       "[420317 rows x 4 columns]"
      ]
     },
     "execution_count": 18,
     "metadata": {},
     "output_type": "execute_result"
    }
   ],
   "source": [
    "cross"
   ]
  },
  {
   "cell_type": "code",
   "execution_count": 27,
   "id": "a28ce73f",
   "metadata": {},
   "outputs": [],
   "source": [
    "df = cross.merge(table, on='PRCLDMPID', how = 'outer')"
   ]
  },
  {
   "cell_type": "code",
   "execution_count": 31,
   "id": "f2e7d472",
   "metadata": {},
   "outputs": [
    {
     "data": {
      "text/plain": [
       "400624"
      ]
     },
     "execution_count": 31,
     "metadata": {},
     "output_type": "execute_result"
    }
   ],
   "source": [
    "len(table['PRCLDMPID'].unique())"
   ]
  },
  {
   "cell_type": "code",
   "execution_count": null,
   "id": "37a91e7c",
   "metadata": {},
   "outputs": [],
   "source": [
    "#JOIN_INDEX is ihe values from the cross table. Needs to be written into the main table"
   ]
  },
  {
   "cell_type": "code",
   "execution_count": 11,
   "id": "bd6211e9",
   "metadata": {},
   "outputs": [],
   "source": [
    "parcels = parcels.astype(float)"
   ]
  },
  {
   "cell_type": "code",
   "execution_count": 13,
   "id": "a71c2532",
   "metadata": {},
   "outputs": [],
   "source": [
    "id_df = df[['Value', 'Own_Type']]\n",
    "id_dict = {0:0}\n",
    "for i in range(len(id_df['Value'])):\n",
    "    id_dict[id_df['Value'][i]] = id_df['Own_Type'][i]"
   ]
  },
  {
   "cell_type": "code",
   "execution_count": 12,
   "id": "7da1444b",
   "metadata": {},
   "outputs": [
    {
     "data": {
      "text/plain": [
       "420318"
      ]
     },
     "execution_count": 12,
     "metadata": {},
     "output_type": "execute_result"
    }
   ],
   "source": [
    "len(np.unique(parcels))"
   ]
  },
  {
   "cell_type": "code",
   "execution_count": 14,
   "id": "8af3e238",
   "metadata": {
    "scrolled": true
   },
   "outputs": [
    {
     "ename": "ValueError",
     "evalue": "cannot convert float NaN to integer",
     "output_type": "error",
     "traceback": [
      "\u001b[1;31m---------------------------------------------------------------------------\u001b[0m",
      "\u001b[1;31mValueError\u001b[0m                                Traceback (most recent call last)",
      "\u001b[1;32m<ipython-input-14-1d06cceb0dff>\u001b[0m in \u001b[0;36m<module>\u001b[1;34m\u001b[0m\n\u001b[0;32m      1\u001b[0m \u001b[0mz\u001b[0m \u001b[1;33m=\u001b[0m \u001b[1;32mlambda\u001b[0m \u001b[0mx\u001b[0m\u001b[1;33m:\u001b[0m \u001b[0mid_dict\u001b[0m\u001b[1;33m[\u001b[0m\u001b[0mx\u001b[0m\u001b[1;33m]\u001b[0m\u001b[1;33m\u001b[0m\u001b[1;33m\u001b[0m\u001b[0m\n\u001b[0;32m      2\u001b[0m \u001b[0mzfunc\u001b[0m \u001b[1;33m=\u001b[0m \u001b[0mnp\u001b[0m\u001b[1;33m.\u001b[0m\u001b[0mvectorize\u001b[0m\u001b[1;33m(\u001b[0m\u001b[0mz\u001b[0m\u001b[1;33m)\u001b[0m\u001b[1;33m\u001b[0m\u001b[1;33m\u001b[0m\u001b[0m\n\u001b[1;32m----> 3\u001b[1;33m \u001b[0mownerships\u001b[0m \u001b[1;33m=\u001b[0m \u001b[0mzfunc\u001b[0m\u001b[1;33m(\u001b[0m\u001b[0mparcels\u001b[0m\u001b[1;33m)\u001b[0m\u001b[1;33m\u001b[0m\u001b[1;33m\u001b[0m\u001b[0m\n\u001b[0m",
      "\u001b[1;32m~\\Anaconda3\\lib\\site-packages\\numpy\\lib\\function_base.py\u001b[0m in \u001b[0;36m__call__\u001b[1;34m(self, *args, **kwargs)\u001b[0m\n\u001b[0;32m   2111\u001b[0m             \u001b[0mvargs\u001b[0m\u001b[1;33m.\u001b[0m\u001b[0mextend\u001b[0m\u001b[1;33m(\u001b[0m\u001b[1;33m[\u001b[0m\u001b[0mkwargs\u001b[0m\u001b[1;33m[\u001b[0m\u001b[0m_n\u001b[0m\u001b[1;33m]\u001b[0m \u001b[1;32mfor\u001b[0m \u001b[0m_n\u001b[0m \u001b[1;32min\u001b[0m \u001b[0mnames\u001b[0m\u001b[1;33m]\u001b[0m\u001b[1;33m)\u001b[0m\u001b[1;33m\u001b[0m\u001b[1;33m\u001b[0m\u001b[0m\n\u001b[0;32m   2112\u001b[0m \u001b[1;33m\u001b[0m\u001b[0m\n\u001b[1;32m-> 2113\u001b[1;33m         \u001b[1;32mreturn\u001b[0m \u001b[0mself\u001b[0m\u001b[1;33m.\u001b[0m\u001b[0m_vectorize_call\u001b[0m\u001b[1;33m(\u001b[0m\u001b[0mfunc\u001b[0m\u001b[1;33m=\u001b[0m\u001b[0mfunc\u001b[0m\u001b[1;33m,\u001b[0m \u001b[0margs\u001b[0m\u001b[1;33m=\u001b[0m\u001b[0mvargs\u001b[0m\u001b[1;33m)\u001b[0m\u001b[1;33m\u001b[0m\u001b[1;33m\u001b[0m\u001b[0m\n\u001b[0m\u001b[0;32m   2114\u001b[0m \u001b[1;33m\u001b[0m\u001b[0m\n\u001b[0;32m   2115\u001b[0m     \u001b[1;32mdef\u001b[0m \u001b[0m_get_ufunc_and_otypes\u001b[0m\u001b[1;33m(\u001b[0m\u001b[0mself\u001b[0m\u001b[1;33m,\u001b[0m \u001b[0mfunc\u001b[0m\u001b[1;33m,\u001b[0m \u001b[0margs\u001b[0m\u001b[1;33m)\u001b[0m\u001b[1;33m:\u001b[0m\u001b[1;33m\u001b[0m\u001b[1;33m\u001b[0m\u001b[0m\n",
      "\u001b[1;32m~\\Anaconda3\\lib\\site-packages\\numpy\\lib\\function_base.py\u001b[0m in \u001b[0;36m_vectorize_call\u001b[1;34m(self, func, args)\u001b[0m\n\u001b[0;32m   2198\u001b[0m \u001b[1;33m\u001b[0m\u001b[0m\n\u001b[0;32m   2199\u001b[0m             \u001b[1;32mif\u001b[0m \u001b[0mufunc\u001b[0m\u001b[1;33m.\u001b[0m\u001b[0mnout\u001b[0m \u001b[1;33m==\u001b[0m \u001b[1;36m1\u001b[0m\u001b[1;33m:\u001b[0m\u001b[1;33m\u001b[0m\u001b[1;33m\u001b[0m\u001b[0m\n\u001b[1;32m-> 2200\u001b[1;33m                 \u001b[0mres\u001b[0m \u001b[1;33m=\u001b[0m \u001b[0marray\u001b[0m\u001b[1;33m(\u001b[0m\u001b[0moutputs\u001b[0m\u001b[1;33m,\u001b[0m \u001b[0mcopy\u001b[0m\u001b[1;33m=\u001b[0m\u001b[1;32mFalse\u001b[0m\u001b[1;33m,\u001b[0m \u001b[0msubok\u001b[0m\u001b[1;33m=\u001b[0m\u001b[1;32mTrue\u001b[0m\u001b[1;33m,\u001b[0m \u001b[0mdtype\u001b[0m\u001b[1;33m=\u001b[0m\u001b[0motypes\u001b[0m\u001b[1;33m[\u001b[0m\u001b[1;36m0\u001b[0m\u001b[1;33m]\u001b[0m\u001b[1;33m)\u001b[0m\u001b[1;33m\u001b[0m\u001b[1;33m\u001b[0m\u001b[0m\n\u001b[0m\u001b[0;32m   2201\u001b[0m             \u001b[1;32melse\u001b[0m\u001b[1;33m:\u001b[0m\u001b[1;33m\u001b[0m\u001b[1;33m\u001b[0m\u001b[0m\n\u001b[0;32m   2202\u001b[0m                 res = tuple([array(x, copy=False, subok=True, dtype=t)\n",
      "\u001b[1;31mValueError\u001b[0m: cannot convert float NaN to integer"
     ]
    }
   ],
   "source": [
    "z = lambda x: id_dict[x]\n",
    "zfunc = np.vectorize(z)\n",
    "ownerships = zfunc(parcels)"
   ]
  },
  {
   "cell_type": "code",
   "execution_count": 36,
   "id": "6f216ccc",
   "metadata": {},
   "outputs": [
    {
     "data": {
      "text/plain": [
       "400624"
      ]
     },
     "execution_count": 36,
     "metadata": {},
     "output_type": "execute_result"
    }
   ],
   "source": [
    "len(table['PRCLDMPID'].unique())"
   ]
  },
  {
   "cell_type": "code",
   "execution_count": 37,
   "id": "d08e2c6c",
   "metadata": {},
   "outputs": [],
   "source": [
    "path = r'D:\\Documents\\OwnershipMap\\New_Script\\Test_ENV\\OUTPUTS\\INTERMEDIATE'"
   ]
  },
  {
   "cell_type": "code",
   "execution_count": 39,
   "id": "10b35e87",
   "metadata": {},
   "outputs": [
    {
     "name": "stderr",
     "output_type": "stream",
     "text": [
      "C:\\Users\\harri\\Anaconda3\\lib\\site-packages\\IPython\\core\\interactiveshell.py:3441: DtypeWarning: Columns (2,13,16,20,22) have mixed types.Specify dtype option on import or set low_memory=False.\n",
      "  exec(code_obj, self.user_global_ns, self.user_ns)\n"
     ]
    }
   ],
   "source": [
    "temp = pd.read_csv(path+'\\\\temp.csv')"
   ]
  },
  {
   "cell_type": "code",
   "execution_count": 40,
   "id": "3ffe5c13",
   "metadata": {},
   "outputs": [
    {
     "name": "stderr",
     "output_type": "stream",
     "text": [
      "C:\\Users\\harri\\Anaconda3\\lib\\site-packages\\IPython\\core\\interactiveshell.py:3441: DtypeWarning: Columns (3,14,17,21,23) have mixed types.Specify dtype option on import or set low_memory=False.\n",
      "  exec(code_obj, self.user_global_ns, self.user_ns)\n"
     ]
    }
   ],
   "source": [
    "state_temp = pd.read_csv(path+'\\\\state_temp.csv')"
   ]
  },
  {
   "cell_type": "code",
   "execution_count": 41,
   "id": "93d1d13e",
   "metadata": {},
   "outputs": [
    {
     "name": "stderr",
     "output_type": "stream",
     "text": [
      "C:\\Users\\harri\\Anaconda3\\lib\\site-packages\\IPython\\core\\interactiveshell.py:3441: DtypeWarning: Columns (5,16,19,23,24,25,37) have mixed types.Specify dtype option on import or set low_memory=False.\n",
      "  exec(code_obj, self.user_global_ns, self.user_ns)\n"
     ]
    }
   ],
   "source": [
    "fdt = pd.read_csv(path+'\\\\Full_Data_Table.csv')"
   ]
  },
  {
   "cell_type": "code",
   "execution_count": 42,
   "id": "d730fbab",
   "metadata": {},
   "outputs": [
    {
     "name": "stderr",
     "output_type": "stream",
     "text": [
      "C:\\Users\\harri\\Anaconda3\\lib\\site-packages\\IPython\\core\\interactiveshell.py:3441: DtypeWarning: Columns (4,15,18,22,24) have mixed types.Specify dtype option on import or set low_memory=False.\n",
      "  exec(code_obj, self.user_global_ns, self.user_ns)\n"
     ]
    }
   ],
   "source": [
    "cst = pd.read_csv(path+'\\\\classified_state_temp.csv')"
   ]
  },
  {
   "cell_type": "code",
   "execution_count": 46,
   "id": "44c031ab",
   "metadata": {},
   "outputs": [
    {
     "data": {
      "text/plain": [
       "398163"
      ]
     },
     "execution_count": 46,
     "metadata": {},
     "output_type": "execute_result"
    }
   ],
   "source": [
    "len(fdt['PRCLDMPID'].unique())"
   ]
  }
 ],
 "metadata": {
  "kernelspec": {
   "display_name": "Python 3",
   "language": "python",
   "name": "python3"
  },
  "language_info": {
   "codemirror_mode": {
    "name": "ipython",
    "version": 3
   },
   "file_extension": ".py",
   "mimetype": "text/x-python",
   "name": "python",
   "nbconvert_exporter": "python",
   "pygments_lexer": "ipython3",
   "version": "3.8.11"
  }
 },
 "nbformat": 4,
 "nbformat_minor": 5
}
