{
 "cells": [
  {
   "cell_type": "code",
   "execution_count": 1,
   "id": "d5daa5c5",
   "metadata": {},
   "outputs": [],
   "source": [
    "import os\n",
    "import pandas as pd\n",
    "import numpy as np\n",
    "import rasterio\n",
    "import gdal\n",
    "import matplotlib.pyplot as plt\n",
    "import seaborn as sns\n",
    "from shapely.geometry import mapping\n",
    "import rioxarray as rxr\n",
    "import xarray as xr\n",
    "import geopandas as gpd\n",
    "import earthpy as et\n",
    "import earthpy.plot as ep"
   ]
  },
  {
   "cell_type": "code",
   "execution_count": 2,
   "id": "74ad4855",
   "metadata": {},
   "outputs": [
    {
     "name": "stderr",
     "output_type": "stream",
     "text": [
      "C:\\Users\\harri\\Anaconda3\\lib\\site-packages\\IPython\\core\\interactiveshell.py:3441: DtypeWarning: Columns (5,16,19,23,24,25,37) have mixed types.Specify dtype option on import or set low_memory=False.\n",
      "  exec(code_obj, self.user_global_ns, self.user_ns)\n"
     ]
    }
   ],
   "source": [
    "table = pd.read_csv(os.path.dirname(os.getcwd())+'\\\\OUTPUTS\\\\INTERMEDIATE\\\\Full_Data_Table.csv')\n",
    "state_name = table['State'].unique()[0]"
   ]
  },
  {
   "cell_type": "code",
   "execution_count": 3,
   "id": "726e01a2",
   "metadata": {},
   "outputs": [],
   "source": [
    "ds = rasterio.open(os.path.dirname(os.getcwd())+'\\\\OUTPUTS\\\\INTERMEDIATE\\\\'+state_name+'\\\\ID_NLCD_temp.tif')"
   ]
  },
  {
   "cell_type": "code",
   "execution_count": 4,
   "id": "bb646db2",
   "metadata": {},
   "outputs": [],
   "source": [
    "ar =ds.read(1)"
   ]
  },
  {
   "cell_type": "code",
   "execution_count": 5,
   "id": "9385009a",
   "metadata": {},
   "outputs": [],
   "source": [
    "ar = ar.astype(str)"
   ]
  },
  {
   "cell_type": "code",
   "execution_count": 6,
   "id": "d91908dd",
   "metadata": {},
   "outputs": [],
   "source": [
    "f = lambda x: x[:2]\n",
    "vfunc = np.vectorize(f)\n",
    "lulc = vfunc(ar)\n",
    "\n",
    "y = lambda x: x[-6:]\n",
    "yfunc = np.vectorize(y)\n",
    "parcels = yfunc(ar)"
   ]
  },
  {
   "cell_type": "code",
   "execution_count": 7,
   "id": "4f58d87b",
   "metadata": {},
   "outputs": [],
   "source": [
    "#table['FFRC_LOCAL_ID'] = [(i+1) for i in list(table.index)]"
   ]
  },
  {
   "cell_type": "code",
   "execution_count": 8,
   "id": "79636221",
   "metadata": {},
   "outputs": [],
   "source": [
    "cross = pd.read_csv(os.path.dirname(os.getcwd())+'\\\\OUTPUTS\\\\INTERMEDIATE\\\\'+state_name+'\\\\ID_Dictionary.csv')"
   ]
  },
  {
   "cell_type": "code",
   "execution_count": 9,
   "id": "a28ce73f",
   "metadata": {},
   "outputs": [],
   "source": [
    "df = table.merge(cross, on='PRCLDMPID', how = 'left')"
   ]
  },
  {
   "cell_type": "code",
   "execution_count": 10,
   "id": "bd6211e9",
   "metadata": {},
   "outputs": [],
   "source": [
    "parcels = parcels.astype(float)"
   ]
  },
  {
   "cell_type": "code",
   "execution_count": 11,
   "id": "a71c2532",
   "metadata": {},
   "outputs": [],
   "source": [
    "id_df = df[['Value', 'Own_Type']]\n",
    "id_dict = {0.0 : 0.0}\n",
    "for i in range(len(id_df['Value'])):\n",
    "    id_dict[id_df['Value'][i]] = id_df['Own_Type'][i]"
   ]
  },
  {
   "cell_type": "code",
   "execution_count": 12,
   "id": "ce55cfb1",
   "metadata": {},
   "outputs": [],
   "source": [
    "test = list(id_df['Value'].unique())"
   ]
  },
  {
   "cell_type": "code",
   "execution_count": 13,
   "id": "93884ebb",
   "metadata": {},
   "outputs": [],
   "source": [
    "m_dict = {}\n",
    "for t in test:\n",
    "    m_dict[t] = 0"
   ]
  },
  {
   "cell_type": "code",
   "execution_count": 14,
   "id": "58b0f40b",
   "metadata": {},
   "outputs": [],
   "source": [
    "missing = [i for i in np.unique(parcels) if i not in m_dict]"
   ]
  },
  {
   "cell_type": "code",
   "execution_count": 15,
   "id": "8a2ee4e0",
   "metadata": {},
   "outputs": [],
   "source": [
    "missing.remove(0.0)"
   ]
  },
  {
   "cell_type": "code",
   "execution_count": 16,
   "id": "95502a80",
   "metadata": {},
   "outputs": [],
   "source": [
    "for i in missing:\n",
    "    id_dict[i] = .99999 "
   ]
  },
  {
   "cell_type": "code",
   "execution_count": 17,
   "id": "8af3e238",
   "metadata": {
    "scrolled": true
   },
   "outputs": [],
   "source": [
    "z = lambda x: id_dict[x]\n",
    "zfunc = np.vectorize(z)\n",
    "ownerships = zfunc(parcels)"
   ]
  },
  {
   "cell_type": "code",
   "execution_count": 18,
   "id": "6b2f959e",
   "metadata": {},
   "outputs": [],
   "source": [
    "ownerships = np.where(pd.isnull(ownerships) == True, 0.99999, ownerships)"
   ]
  },
  {
   "cell_type": "code",
   "execution_count": 19,
   "id": "0087b40c",
   "metadata": {},
   "outputs": [],
   "source": [
    "ownerships = np.where((ownerships == 0.99999) | (ownerships == 0.0), ownerships, ownerships/100)"
   ]
  },
  {
   "cell_type": "code",
   "execution_count": 20,
   "id": "6624889b",
   "metadata": {},
   "outputs": [],
   "source": [
    "lulc = lulc.astype(float)"
   ]
  },
  {
   "cell_type": "code",
   "execution_count": 21,
   "id": "f956a3d6",
   "metadata": {},
   "outputs": [],
   "source": [
    "ownership_lands = ownerships+lulc"
   ]
  },
  {
   "cell_type": "code",
   "execution_count": 22,
   "id": "0f5a7ef5",
   "metadata": {},
   "outputs": [
    {
     "data": {
      "text/plain": [
       "array([10.     , 10.25   , 10.31   , 10.32   , 10.41   , 10.42   ,\n",
       "       10.43   , 10.45   , 10.99999, 11.     , 11.25   , 11.31   ,\n",
       "       11.32   , 11.41   , 11.42   , 11.43   , 11.45   , 11.99999,\n",
       "       12.     , 12.25   , 12.31   , 12.32   , 12.41   , 12.42   ,\n",
       "       12.43   , 12.45   , 12.99999, 13.     , 13.25   , 13.31   ,\n",
       "       13.32   , 13.41   , 13.42   , 13.43   , 13.45   , 13.99999,\n",
       "       14.     , 14.25   , 14.31   , 14.32   , 14.41   , 14.42   ,\n",
       "       14.43   , 14.45   , 14.99999, 15.     , 15.25   , 15.31   ,\n",
       "       15.32   , 15.41   , 15.42   , 15.43   , 15.45   , 15.99999,\n",
       "       16.     , 16.25   , 16.31   , 16.32   , 16.41   , 16.42   ,\n",
       "       16.43   , 16.45   , 16.99999, 20.     , 20.25   , 20.31   ,\n",
       "       20.32   , 20.41   , 20.42   , 20.43   , 20.45   , 20.99999,\n",
       "       30.     , 30.25   , 30.31   , 30.32   , 30.41   , 30.42   ,\n",
       "       30.43   , 30.45   , 30.99999, 40.     , 40.25   , 40.31   ,\n",
       "       40.32   , 40.41   , 40.42   , 40.43   , 40.45   , 40.99999,\n",
       "       50.     , 50.25   , 50.31   , 50.32   , 50.41   , 50.42   ,\n",
       "       50.43   , 50.45   , 50.99999, 60.     , 60.25   , 60.31   ,\n",
       "       60.32   , 60.41   , 60.42   , 60.43   , 60.45   , 60.99999,\n",
       "       70.     , 70.25   , 70.31   , 70.32   , 70.41   , 70.42   ,\n",
       "       70.43   , 70.45   , 70.99999, 80.     , 80.25   , 80.31   ,\n",
       "       80.32   , 80.41   , 80.42   , 80.43   , 80.45   , 80.99999,\n",
       "       90.     , 90.25   , 90.31   , 90.32   , 90.41   , 90.42   ,\n",
       "       90.43   , 90.45   , 90.99999])"
      ]
     },
     "execution_count": 22,
     "metadata": {},
     "output_type": "execute_result"
    }
   ],
   "source": [
    "np.unique(ownership_lands)"
   ]
  },
  {
   "cell_type": "code",
   "execution_count": 23,
   "id": "65bb189f",
   "metadata": {},
   "outputs": [],
   "source": [
    "def array_to_raster(array, reference, output_file):\n",
    "    ref = gdal.Open(reference)\n",
    "    srcgdal = np.array(ref.GetRasterBand(1).ReadAsArray())\n",
    "    dst_filename = output_file\n",
    "    x_pixels = srcgdal.shape[1]  # number of pixels in x\n",
    "    y_pixels = srcgdal.shape[0]  # number of pixels in y\n",
    "    driver = gdal.GetDriverByName('GTiff')\n",
    "    dataset = driver.Create(dst_filename,x_pixels, y_pixels, 1,gdal.GDT_Float64)\n",
    "    dataset.SetGeoTransform(ref.GetGeoTransform())\n",
    "    dataset.SetProjection(ref.GetProjection())    \n",
    "    dataset.GetRasterBand(1).WriteArray(array)"
   ]
  },
  {
   "cell_type": "code",
   "execution_count": 24,
   "id": "f793e02c",
   "metadata": {},
   "outputs": [],
   "source": [
    "#os.mkdir(os.path.dirname(os.getcwd())+'\\\\OUTPUTS\\\\FINAL\\\\RASTERS\\\\'+state_name)"
   ]
  },
  {
   "cell_type": "code",
   "execution_count": 25,
   "id": "506c48e0",
   "metadata": {},
   "outputs": [],
   "source": [
    "src = os.path.dirname(os.getcwd())+'\\\\OUTPUTS\\\\INTERMEDIATE\\\\'+state_name+'\\\\ID_NLCD_temp.tif'"
   ]
  },
  {
   "cell_type": "code",
   "execution_count": 26,
   "id": "51c3e9bf",
   "metadata": {},
   "outputs": [],
   "source": [
    "array_to_raster(ownership_lands, src , os.path.dirname(os.getcwd())+'\\\\OUTPUTS\\\\INTERMEDIATE\\\\state_map.tif')"
   ]
  },
  {
   "cell_type": "code",
   "execution_count": 27,
   "id": "22f3b155",
   "metadata": {},
   "outputs": [],
   "source": [
    "# Prettier plotting with seaborn\n",
    "sns.set(font_scale=1.5)\n",
    "\n",
    "# Get data and set working directory\n",
    "#et.data.get_data(\"colorado-flood\")\n",
    "#os.chdir(os.path.join(et.io.HOME,\n",
    "                      #'earth-analytics',\n",
    "                      #'data'))"
   ]
  },
  {
   "cell_type": "code",
   "execution_count": 28,
   "id": "1e81b32f",
   "metadata": {},
   "outputs": [],
   "source": [
    "lidar_chm_im = rxr.open_rasterio(os.path.dirname(os.getcwd())+'\\\\OUTPUTS\\\\INTERMEDIATE\\\\state_map.tif',\n",
    "                                 masked=True).squeeze()\n",
    "\n",
    "#f, ax = plt.subplots(figsize=(10, 5))\n",
    "#lidar_chm_im.plot.imshow()\n",
    "#ax.set(title=\"landcover vs ownership type\")\n",
    "\n",
    "#ax.set_axis_off()\n",
    "#plt.show()"
   ]
  },
  {
   "cell_type": "code",
   "execution_count": 29,
   "id": "282dc225",
   "metadata": {},
   "outputs": [],
   "source": [
    "# Open crop extent (your study area extent boundary)\n",
    "crop_extent = gpd.read_file(os.path.dirname(os.getcwd())+'\\\\INPUTS\\\\State_Boundaries.shp')\n",
    "state_fips = pd.read_csv(os.path.dirname(os.getcwd())+'\\\\INPUTS\\\\State_Fips_Dictionary.csv')\n",
    "state_fips = state_fips.rename(columns={'State Abbreviation' : 'State_Abbreviation'})\n",
    "sfd = state_fips.set_index('FIPS Code').State_Abbreviation.to_dict()\n",
    "crop_extent['STATEFP'] = crop_extent['STATEFP'].astype(int)\n",
    "crop_extent['State_Abbreviation'] = crop_extent.STATEFP.map(sfd)\n",
    "crop_extent =crop_extent.loc[crop_extent['State_Abbreviation'] == state_name]"
   ]
  },
  {
   "cell_type": "code",
   "execution_count": 30,
   "id": "adaa0cd8",
   "metadata": {},
   "outputs": [],
   "source": [
    "#fig, ax = plt.subplots(figsize=(6, 6))\n",
    "\n",
    "#crop_extent.plot(ax=ax)\n",
    "\n",
    "#ax.set_title(\"Shapefile Crop Extent\",fontsize=16)\n",
    "#plt.show()"
   ]
  },
  {
   "cell_type": "code",
   "execution_count": 31,
   "id": "13ce5416",
   "metadata": {},
   "outputs": [],
   "source": [
    "#f, ax = plt.subplots(figsize=(10, 5))\n",
    "#lidar_chm_im.plot.imshow(ax=ax)\n",
    "\n",
    "#crop_extent.plot(ax=ax,alpha=.8)\n",
    "#ax.set(title=\"Raster Layer with Shapefile Overlayed\")\n",
    "\n",
    "#ax.set_axis_off()\n",
    "#plt.show()"
   ]
  },
  {
   "cell_type": "code",
   "execution_count": 32,
   "id": "59992e2c",
   "metadata": {},
   "outputs": [],
   "source": [
    "lidar_clipped = lidar_chm_im.rio.clip(crop_extent.geometry.apply(mapping),\n",
    "                                      # This is needed if your GDF is in a diff CRS than the raster data\n",
    "                                      crop_extent.crs)\n",
    "\n",
    "#f, ax = plt.subplots(figsize=(10, 4))\n",
    "#lidar_clipped.plot(ax=ax)\n",
    "#ax.set(title=\"Raster Layer Cropped to Geodataframe Extent\")\n",
    "#ax.set_axis_off()\n",
    "#plt.show()"
   ]
  },
  {
   "cell_type": "code",
   "execution_count": 33,
   "id": "5208428d",
   "metadata": {},
   "outputs": [],
   "source": [
    "path_to_tif_file = os.path.dirname(os.getcwd())+'\\\\OUTPUTS\\\\FINAL\\\\RASTERS\\\\'+state_name+'\\\\'+ state_name+'_LULC_OWNERSHIP.tif'\n",
    "\n",
    "# Write the data to a new geotiff file\n",
    "lidar_clipped.rio.to_raster(path_to_tif_file)"
   ]
  },
  {
   "cell_type": "code",
   "execution_count": null,
   "id": "7ea81077",
   "metadata": {},
   "outputs": [],
   "source": []
  }
 ],
 "metadata": {
  "kernelspec": {
   "display_name": "Python 3",
   "language": "python",
   "name": "python3"
  },
  "language_info": {
   "codemirror_mode": {
    "name": "ipython",
    "version": 3
   },
   "file_extension": ".py",
   "mimetype": "text/x-python",
   "name": "python",
   "nbconvert_exporter": "python",
   "pygments_lexer": "ipython3",
   "version": "3.8.11"
  }
 },
 "nbformat": 4,
 "nbformat_minor": 5
}
