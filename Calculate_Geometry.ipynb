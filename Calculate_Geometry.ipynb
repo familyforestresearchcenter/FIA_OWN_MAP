{
 "cells": [
  {
   "cell_type": "code",
   "execution_count": 12,
   "id": "61d2ac07",
   "metadata": {},
   "outputs": [],
   "source": [
    "#import os\n",
    "#import geopandas as gpd\n",
    "#from geopandas import GeoSeries\n",
    "#import pandas as pd\n",
    "#from geocube.api.core import make_geocube\n",
    "#import rasterio\n",
    "#import numpy as np\n",
    "#import sys"
   ]
  },
  {
   "cell_type": "code",
   "execution_count": 14,
   "id": "d8b25632",
   "metadata": {},
   "outputs": [],
   "source": [
    "#calcutes the parcel centroids and the area. \n",
    "def calculate_geo(x, path):\n",
    "    import os\n",
    "    import geopandas as gpd\n",
    "    from geopandas import GeoSeries\n",
    "    import pandas as pd\n",
    "    def getXY(pt):\n",
    "        return (pt.x, pt.y)\n",
    "    polygon = gpd.read_file(path+'\\\\'+x+\"_parcel_v2.geojson\")\n",
    "    points = gpd.read_file(path+'\\\\'+x+\"_points.geojson\")\n",
    "    #reprojecting the polygons\n",
    "    polygon = polygon.to_crs(4269)\n",
    "    Parcel_Centroid = GeoSeries(polygon['geometry']).centroid\n",
    "    x,y = [list(t) for t in zip(*map(getXY, Parcel_Centroid))]\n",
    "    polygon['Centroid_X'] = x\n",
    "    polygon['Centroid_Y'] = y\n",
    "    polygon = polygon.to_crs(5070)\n",
    "    polygon[\"PARCEL_AREA\"] = polygon['geometry'].area/ 10**6\n",
    "    #DMP points data had duplicates that were propogating errors throughout the whole join process\n",
    "    points = points.drop_duplicates(['PRCLDMPID'], keep='first')\n",
    "    #there left table has to be a gdf and the right df HAS to be a simple df to result in a gdf\n",
    "    state = polygon.merge(pd.DataFrame(points.drop(columns='geometry')), on='PRCLDMPID', how= 'left')\n",
    "    return state"
   ]
  }
 ],
 "metadata": {
  "kernelspec": {
   "display_name": "Python 3",
   "language": "python",
   "name": "python3"
  },
  "language_info": {
   "codemirror_mode": {
    "name": "ipython",
    "version": 3
   },
   "file_extension": ".py",
   "mimetype": "text/x-python",
   "name": "python",
   "nbconvert_exporter": "python",
   "pygments_lexer": "ipython3",
   "version": "3.8.11"
  }
 },
 "nbformat": 4,
 "nbformat_minor": 5
}
