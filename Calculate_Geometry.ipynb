{
 "cells": [
  {
   "cell_type": "code",
   "execution_count": 12,
   "id": "61d2ac07",
   "metadata": {},
   "outputs": [],
   "source": [
    "#import os\n",
    "#import geopandas as gpd\n",
    "#from geopandas import GeoSeries\n",
    "#import pandas as pd\n",
    "#from geocube.api.core import make_geocube\n",
    "#import rasterio\n",
    "#import numpy as np\n",
    "#import sys"
   ]
  },
  {
   "cell_type": "code",
   "execution_count": 1,
   "id": "d8b25632",
   "metadata": {},
   "outputs": [],
   "source": [
    "def calculate_geo(x, path):\n",
    "    import os\n",
    "    import geopandas as gpd\n",
    "    from geopandas import GeoSeries\n",
    "    import pandas as pd\n",
    "    def getXY(pt):\n",
    "        return (pt.x, pt.y)\n",
    "    polygon = gpd.read_file(path+'\\\\'+x+\"_parcel.geojson\")\n",
    "    points = gpd.read_file(path+'\\\\'+x+\"_points.geojson\")\n",
    "    polygon = polygon.to_crs(4269)\n",
    "    Parcel_Centroid = GeoSeries(polygon['geometry']).centroid\n",
    "    Parcel_Centroid = GeoSeries(polygon['geometry']).centroid\n",
    "    x,y = [list(t) for t in zip(*map(getXY, Parcel_Centroid))]\n",
    "    polygon['Centroid_X'] = x\n",
    "    polygon['Centroid_Y'] = y\n",
    "    polygon = polygon.to_crs(5070)\n",
    "    polygon[\"PARCEL_AREA\"] = polygon['geometry'].area/ 10**6\n",
    "    #there left table has to be a gdf and the right df HAS to be a simple df to result in a gdf\n",
    "    state = polygon.merge(pd.DataFrame(points.drop(columns='geometry')), on='PRCLDMPID')\n",
    "    return state"
   ]
  },
  {
   "cell_type": "code",
   "execution_count": 3,
   "id": "66bf18f6",
   "metadata": {},
   "outputs": [],
   "source": [
    "#path = #path to intermediate files\n",
    "#polygon = gpd.read_file('parcel.geojson')\n",
    "#points = gpd.read_file('points.geojson')"
   ]
  },
  {
   "cell_type": "code",
   "execution_count": 4,
   "id": "3e924a70",
   "metadata": {},
   "outputs": [],
   "source": [
    "#polygon = polygon.to_crs(4269)"
   ]
  },
  {
   "cell_type": "code",
   "execution_count": 5,
   "id": "34d91bfb",
   "metadata": {},
   "outputs": [
    {
     "name": "stderr",
     "output_type": "stream",
     "text": [
      "<ipython-input-5-120b4ad3e5d7>:1: UserWarning: Geometry is in a geographic CRS. Results from 'centroid' are likely incorrect. Use 'GeoSeries.to_crs()' to re-project geometries to a projected CRS before this operation.\n",
      "\n",
      "  Parcel_Centroid = GeoSeries(polygon['geometry']).centroid\n"
     ]
    }
   ],
   "source": [
    "#Parcel_Centroid = GeoSeries(polygon['geometry']).centroid"
   ]
  },
  {
   "cell_type": "code",
   "execution_count": 6,
   "id": "fa74db54",
   "metadata": {},
   "outputs": [
    {
     "name": "stderr",
     "output_type": "stream",
     "text": [
      "<ipython-input-6-07187857b746>:3: UserWarning: Geometry is in a geographic CRS. Results from 'centroid' are likely incorrect. Use 'GeoSeries.to_crs()' to re-project geometries to a projected CRS before this operation.\n",
      "\n",
      "  Parcel_Centroid = GeoSeries(polygon['geometry']).centroid\n"
     ]
    }
   ],
   "source": [
    "#def getXY(pt):\n",
    "    #return (pt.x, pt.y)\n",
    "#Parcel_Centroid = GeoSeries(polygon['geometry']).centroid\n",
    "#x,y = [list(t) for t in zip(*map(getXY, Parcel_Centroid))]\n",
    "#polygon['Centroid_X'] = x\n",
    "#polygon['Centroid_Y'] = y"
   ]
  },
  {
   "cell_type": "code",
   "execution_count": 7,
   "id": "7f2d176c",
   "metadata": {},
   "outputs": [],
   "source": [
    "#polygon = polygon.to_crs(5070)"
   ]
  },
  {
   "cell_type": "code",
   "execution_count": 8,
   "id": "dedfd17f",
   "metadata": {},
   "outputs": [],
   "source": [
    "#polygon[\"Area_SQKM\"] = polygon['geometry'].area/ 10**6"
   ]
  },
  {
   "cell_type": "code",
   "execution_count": 9,
   "id": "942ca053",
   "metadata": {},
   "outputs": [],
   "source": [
    "#there left table has to be a gdf and the right df HAS to be a simple df to result in a gdf\n",
    "#state = polygon.merge(pd.DataFrame(points.drop(columns='geometry')), on='PRCLDMPID')"
   ]
  }
 ],
 "metadata": {
  "kernelspec": {
   "display_name": "Python 3",
   "language": "python",
   "name": "python3"
  },
  "language_info": {
   "codemirror_mode": {
    "name": "ipython",
    "version": 3
   },
   "file_extension": ".py",
   "mimetype": "text/x-python",
   "name": "python",
   "nbconvert_exporter": "python",
   "pygments_lexer": "ipython3",
   "version": "3.8.11"
  }
 },
 "nbformat": 4,
 "nbformat_minor": 5
}
