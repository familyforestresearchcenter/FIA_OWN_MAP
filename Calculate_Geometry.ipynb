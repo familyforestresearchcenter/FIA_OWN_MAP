{
 "cells": [
  {
   "cell_type": "code",
   "execution_count": 12,
   "id": "61d2ac07",
   "metadata": {},
   "outputs": [],
   "source": [
    "#import os\n",
    "#import geopandas as gpd\n",
    "#from geopandas import GeoSeries\n",
    "#import pandas as pd\n",
    "#from geocube.api.core import make_geocube\n",
    "#import rasterio\n",
    "#import numpy as np\n",
    "#import sys"
   ]
  },
  {
   "cell_type": "code",
   "execution_count": 14,
   "id": "d8b25632",
   "metadata": {},
   "outputs": [],
   "source": [
    "#calcutes the parcel centroids and the area. \n",
    "def calculate_geo(x, path):\n",
    "    import os\n",
    "    import geopandas as gpd\n",
    "    from geopandas import GeoSeries\n",
    "    import pandas as pd\n",
    "    def getXY(pt):\n",
    "        return (pt.x, pt.y)\n",
    "    polygon = gpd.read_file(path+'\\\\'+x+\"_parcel_v2.geojson\")\n",
    "    points = gpd.read_file(path+'\\\\'+x+\"_points.geojson\")\n",
    "    #reprojecting the polygons\n",
    "    polygon = polygon.to_crs(4269)\n",
    "    Parcel_Centroid = GeoSeries(polygon['geometry']).centroid\n",
    "    x,y = [list(t) for t in zip(*map(getXY, Parcel_Centroid))]\n",
    "    polygon['Centroid_X'] = x\n",
    "    polygon['Centroid_Y'] = y\n",
    "    polygon = polygon.to_crs(5070)\n",
    "    polygon[\"PARCEL_AREA\"] = polygon['geometry'].area/ 10**6\n",
    "    #DMP points data had duplicates that were propogating errors throughout the whole join process\n",
    "    points = points.drop_duplicates(['PRCLDMPID'], keep='first')\n",
    "    #there left table has to be a gdf and the right df HAS to be a simple df to result in a gdf\n",
    "    state = polygon.merge(pd.DataFrame(points.drop(columns='geometry')), on='PRCLDMPID', how= 'left')\n",
    "    return state"
   ]
  },
  {
   "cell_type": "code",
   "execution_count": 1,
   "id": "3f552846",
   "metadata": {},
   "outputs": [],
   "source": [
    "#import os\n",
    "#import geopandas as gpd\n",
    "#from geopandas import GeoSeries\n",
    "#import pandas as pd\n",
    "#def getXY(pt):\n",
    "    #return (pt.x, pt.y)"
   ]
  },
  {
   "cell_type": "code",
   "execution_count": 7,
   "id": "edcd0db3",
   "metadata": {},
   "outputs": [],
   "source": [
    "#polygon = gpd.read_file(r\"D:\\Documents\\OwnershipMap\\New_Script\\Test_ENV\\OUTPUTS\\INTERMEDIATE\\DE\\DE_parcel.geojson\")"
   ]
  },
  {
   "cell_type": "code",
   "execution_count": 8,
   "id": "571406a2",
   "metadata": {},
   "outputs": [
    {
     "data": {
      "text/plain": [
       "423051"
      ]
     },
     "execution_count": 8,
     "metadata": {},
     "output_type": "execute_result"
    }
   ],
   "source": [
    "#len(polygon['PRCLDMPID'].unique())"
   ]
  },
  {
   "cell_type": "code",
   "execution_count": 9,
   "id": "6a22e467",
   "metadata": {},
   "outputs": [],
   "source": [
    "#test = pd.read_csv(r'D:\\Documents\\OwnershipMap\\New_Script\\Test_ENV\\OUTPUTS\\INTERMEDIATE\\DE\\ID_Dictionary.csv')"
   ]
  },
  {
   "cell_type": "code",
   "execution_count": 10,
   "id": "b64a73ee",
   "metadata": {},
   "outputs": [
    {
     "data": {
      "text/html": [
       "<div>\n",
       "<style scoped>\n",
       "    .dataframe tbody tr th:only-of-type {\n",
       "        vertical-align: middle;\n",
       "    }\n",
       "\n",
       "    .dataframe tbody tr th {\n",
       "        vertical-align: top;\n",
       "    }\n",
       "\n",
       "    .dataframe thead th {\n",
       "        text-align: right;\n",
       "    }\n",
       "</style>\n",
       "<table border=\"1\" class=\"dataframe\">\n",
       "  <thead>\n",
       "    <tr style=\"text-align: right;\">\n",
       "      <th></th>\n",
       "      <th>OID_</th>\n",
       "      <th>Value</th>\n",
       "      <th>Count</th>\n",
       "      <th>PRCLDMPID</th>\n",
       "    </tr>\n",
       "  </thead>\n",
       "  <tbody>\n",
       "    <tr>\n",
       "      <th>0</th>\n",
       "      <td>0</td>\n",
       "      <td>1</td>\n",
       "      <td>42.0</td>\n",
       "      <td>100660192_161700952</td>\n",
       "    </tr>\n",
       "    <tr>\n",
       "      <th>1</th>\n",
       "      <td>1</td>\n",
       "      <td>2</td>\n",
       "      <td>19.0</td>\n",
       "      <td>100660192_161700951</td>\n",
       "    </tr>\n",
       "    <tr>\n",
       "      <th>2</th>\n",
       "      <td>2</td>\n",
       "      <td>3</td>\n",
       "      <td>30.0</td>\n",
       "      <td>100660192_161700950</td>\n",
       "    </tr>\n",
       "    <tr>\n",
       "      <th>3</th>\n",
       "      <td>3</td>\n",
       "      <td>4</td>\n",
       "      <td>37.0</td>\n",
       "      <td>100660192_161700949</td>\n",
       "    </tr>\n",
       "    <tr>\n",
       "      <th>4</th>\n",
       "      <td>4</td>\n",
       "      <td>5</td>\n",
       "      <td>32.0</td>\n",
       "      <td>100660192_161700948</td>\n",
       "    </tr>\n",
       "    <tr>\n",
       "      <th>...</th>\n",
       "      <td>...</td>\n",
       "      <td>...</td>\n",
       "      <td>...</td>\n",
       "      <td>...</td>\n",
       "    </tr>\n",
       "    <tr>\n",
       "      <th>420312</th>\n",
       "      <td>420312</td>\n",
       "      <td>423047</td>\n",
       "      <td>5.0</td>\n",
       "      <td>100660192_157280765</td>\n",
       "    </tr>\n",
       "    <tr>\n",
       "      <th>420313</th>\n",
       "      <td>420313</td>\n",
       "      <td>423048</td>\n",
       "      <td>25.0</td>\n",
       "      <td>100660192_157280766</td>\n",
       "    </tr>\n",
       "    <tr>\n",
       "      <th>420314</th>\n",
       "      <td>420314</td>\n",
       "      <td>423049</td>\n",
       "      <td>9.0</td>\n",
       "      <td>100660192_157280792</td>\n",
       "    </tr>\n",
       "    <tr>\n",
       "      <th>420315</th>\n",
       "      <td>420315</td>\n",
       "      <td>423050</td>\n",
       "      <td>9.0</td>\n",
       "      <td>100660192_157280767</td>\n",
       "    </tr>\n",
       "    <tr>\n",
       "      <th>420316</th>\n",
       "      <td>420316</td>\n",
       "      <td>423051</td>\n",
       "      <td>12.0</td>\n",
       "      <td>100660192_157280768</td>\n",
       "    </tr>\n",
       "  </tbody>\n",
       "</table>\n",
       "<p>420317 rows × 4 columns</p>\n",
       "</div>"
      ],
      "text/plain": [
       "          OID_   Value  Count            PRCLDMPID\n",
       "0            0       1   42.0  100660192_161700952\n",
       "1            1       2   19.0  100660192_161700951\n",
       "2            2       3   30.0  100660192_161700950\n",
       "3            3       4   37.0  100660192_161700949\n",
       "4            4       5   32.0  100660192_161700948\n",
       "...        ...     ...    ...                  ...\n",
       "420312  420312  423047    5.0  100660192_157280765\n",
       "420313  420313  423048   25.0  100660192_157280766\n",
       "420314  420314  423049    9.0  100660192_157280792\n",
       "420315  420315  423050    9.0  100660192_157280767\n",
       "420316  420316  423051   12.0  100660192_157280768\n",
       "\n",
       "[420317 rows x 4 columns]"
      ]
     },
     "execution_count": 10,
     "metadata": {},
     "output_type": "execute_result"
    }
   ],
   "source": [
    "#test"
   ]
  }
 ],
 "metadata": {
  "kernelspec": {
   "display_name": "Python 3",
   "language": "python",
   "name": "python3"
  },
  "language_info": {
   "codemirror_mode": {
    "name": "ipython",
    "version": 3
   },
   "file_extension": ".py",
   "mimetype": "text/x-python",
   "name": "python",
   "nbconvert_exporter": "python",
   "pygments_lexer": "ipython3",
   "version": "3.8.11"
  }
 },
 "nbformat": 4,
 "nbformat_minor": 5
}
