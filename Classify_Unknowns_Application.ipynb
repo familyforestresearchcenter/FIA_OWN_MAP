{
 "cells": [
  {
   "cell_type": "code",
   "execution_count": 1,
   "metadata": {},
   "outputs": [],
   "source": [
    "import os\n",
    "import pandas as pd\n",
    "import re\n",
    "import numpy as np\n",
    "from sklearn.model_selection import train_test_split\n",
    "from sklearn.preprocessing import StandardScaler\n",
    "from sklearn.ensemble import RandomForestClassifier\n",
    "from sklearn.metrics import classification_report, confusion_matrix, accuracy_score\n",
    "import nltk\n",
    "from nltk.stem import PorterStemmer\n",
    "from sklearn.feature_extraction.text import CountVectorizer, TfidfTransformer\n",
    "import pickle"
   ]
  },
  {
   "cell_type": "code",
   "execution_count": 2,
   "metadata": {},
   "outputs": [],
   "source": [
    "table=pd.read_csv(os.path.dirname(os.getcwd())+'\\\\OUTPUTS\\\\INTERMEDIATE\\\\state_temp.csv', low_memory=False)"
   ]
  },
  {
   "cell_type": "code",
   "execution_count": 3,
   "metadata": {},
   "outputs": [],
   "source": [
    "table['Own_Type'] =np.nan"
   ]
  },
  {
   "cell_type": "code",
   "execution_count": 4,
   "metadata": {
    "collapsed": true
   },
   "outputs": [
    {
     "ename": "KeyError",
     "evalue": "'Simple_Owners'",
     "output_type": "error",
     "traceback": [
      "\u001b[1;31m---------------------------------------------------------------------------\u001b[0m",
      "\u001b[1;31mKeyError\u001b[0m                                  Traceback (most recent call last)",
      "\u001b[1;32m~\\Anaconda3\\lib\\site-packages\\pandas\\core\\indexes\\base.py\u001b[0m in \u001b[0;36mget_loc\u001b[1;34m(self, key, method, tolerance)\u001b[0m\n\u001b[0;32m   3360\u001b[0m             \u001b[1;32mtry\u001b[0m\u001b[1;33m:\u001b[0m\u001b[1;33m\u001b[0m\u001b[1;33m\u001b[0m\u001b[0m\n\u001b[1;32m-> 3361\u001b[1;33m                 \u001b[1;32mreturn\u001b[0m \u001b[0mself\u001b[0m\u001b[1;33m.\u001b[0m\u001b[0m_engine\u001b[0m\u001b[1;33m.\u001b[0m\u001b[0mget_loc\u001b[0m\u001b[1;33m(\u001b[0m\u001b[0mcasted_key\u001b[0m\u001b[1;33m)\u001b[0m\u001b[1;33m\u001b[0m\u001b[1;33m\u001b[0m\u001b[0m\n\u001b[0m\u001b[0;32m   3362\u001b[0m             \u001b[1;32mexcept\u001b[0m \u001b[0mKeyError\u001b[0m \u001b[1;32mas\u001b[0m \u001b[0merr\u001b[0m\u001b[1;33m:\u001b[0m\u001b[1;33m\u001b[0m\u001b[1;33m\u001b[0m\u001b[0m\n",
      "\u001b[1;32m~\\Anaconda3\\lib\\site-packages\\pandas\\_libs\\index.pyx\u001b[0m in \u001b[0;36mpandas._libs.index.IndexEngine.get_loc\u001b[1;34m()\u001b[0m\n",
      "\u001b[1;32m~\\Anaconda3\\lib\\site-packages\\pandas\\_libs\\index.pyx\u001b[0m in \u001b[0;36mpandas._libs.index.IndexEngine.get_loc\u001b[1;34m()\u001b[0m\n",
      "\u001b[1;32mpandas\\_libs\\hashtable_class_helper.pxi\u001b[0m in \u001b[0;36mpandas._libs.hashtable.PyObjectHashTable.get_item\u001b[1;34m()\u001b[0m\n",
      "\u001b[1;32mpandas\\_libs\\hashtable_class_helper.pxi\u001b[0m in \u001b[0;36mpandas._libs.hashtable.PyObjectHashTable.get_item\u001b[1;34m()\u001b[0m\n",
      "\u001b[1;31mKeyError\u001b[0m: 'Simple_Owners'",
      "\nThe above exception was the direct cause of the following exception:\n",
      "\u001b[1;31mKeyError\u001b[0m                                  Traceback (most recent call last)",
      "\u001b[1;32m<ipython-input-4-5d210f84a2d7>\u001b[0m in \u001b[0;36m<module>\u001b[1;34m\u001b[0m\n\u001b[1;32m----> 1\u001b[1;33m \u001b[0mnull\u001b[0m \u001b[1;33m=\u001b[0m \u001b[0mtable\u001b[0m\u001b[1;33m.\u001b[0m\u001b[0mloc\u001b[0m\u001b[1;33m[\u001b[0m\u001b[0mpd\u001b[0m\u001b[1;33m.\u001b[0m\u001b[0misnull\u001b[0m\u001b[1;33m(\u001b[0m\u001b[0mtable\u001b[0m\u001b[1;33m[\u001b[0m\u001b[1;34m'Simple_Owners'\u001b[0m\u001b[1;33m]\u001b[0m\u001b[1;33m)\u001b[0m \u001b[1;33m==\u001b[0m \u001b[1;32mTrue\u001b[0m\u001b[1;33m]\u001b[0m\u001b[1;33m\u001b[0m\u001b[1;33m\u001b[0m\u001b[0m\n\u001b[0m\u001b[0;32m      2\u001b[0m \u001b[0mtable\u001b[0m \u001b[1;33m=\u001b[0m \u001b[0mtable\u001b[0m\u001b[1;33m.\u001b[0m\u001b[0mloc\u001b[0m\u001b[1;33m[\u001b[0m\u001b[1;33m~\u001b[0m\u001b[0mpd\u001b[0m\u001b[1;33m.\u001b[0m\u001b[0misnull\u001b[0m\u001b[1;33m(\u001b[0m\u001b[0mtable\u001b[0m\u001b[1;33m[\u001b[0m\u001b[1;34m'Simple_Owners'\u001b[0m\u001b[1;33m]\u001b[0m\u001b[1;33m)\u001b[0m \u001b[1;33m==\u001b[0m \u001b[1;32mTrue\u001b[0m\u001b[1;33m]\u001b[0m\u001b[1;33m\u001b[0m\u001b[1;33m\u001b[0m\u001b[0m\n",
      "\u001b[1;32m~\\Anaconda3\\lib\\site-packages\\pandas\\core\\frame.py\u001b[0m in \u001b[0;36m__getitem__\u001b[1;34m(self, key)\u001b[0m\n\u001b[0;32m   3453\u001b[0m             \u001b[1;32mif\u001b[0m \u001b[0mself\u001b[0m\u001b[1;33m.\u001b[0m\u001b[0mcolumns\u001b[0m\u001b[1;33m.\u001b[0m\u001b[0mnlevels\u001b[0m \u001b[1;33m>\u001b[0m \u001b[1;36m1\u001b[0m\u001b[1;33m:\u001b[0m\u001b[1;33m\u001b[0m\u001b[1;33m\u001b[0m\u001b[0m\n\u001b[0;32m   3454\u001b[0m                 \u001b[1;32mreturn\u001b[0m \u001b[0mself\u001b[0m\u001b[1;33m.\u001b[0m\u001b[0m_getitem_multilevel\u001b[0m\u001b[1;33m(\u001b[0m\u001b[0mkey\u001b[0m\u001b[1;33m)\u001b[0m\u001b[1;33m\u001b[0m\u001b[1;33m\u001b[0m\u001b[0m\n\u001b[1;32m-> 3455\u001b[1;33m             \u001b[0mindexer\u001b[0m \u001b[1;33m=\u001b[0m \u001b[0mself\u001b[0m\u001b[1;33m.\u001b[0m\u001b[0mcolumns\u001b[0m\u001b[1;33m.\u001b[0m\u001b[0mget_loc\u001b[0m\u001b[1;33m(\u001b[0m\u001b[0mkey\u001b[0m\u001b[1;33m)\u001b[0m\u001b[1;33m\u001b[0m\u001b[1;33m\u001b[0m\u001b[0m\n\u001b[0m\u001b[0;32m   3456\u001b[0m             \u001b[1;32mif\u001b[0m \u001b[0mis_integer\u001b[0m\u001b[1;33m(\u001b[0m\u001b[0mindexer\u001b[0m\u001b[1;33m)\u001b[0m\u001b[1;33m:\u001b[0m\u001b[1;33m\u001b[0m\u001b[1;33m\u001b[0m\u001b[0m\n\u001b[0;32m   3457\u001b[0m                 \u001b[0mindexer\u001b[0m \u001b[1;33m=\u001b[0m \u001b[1;33m[\u001b[0m\u001b[0mindexer\u001b[0m\u001b[1;33m]\u001b[0m\u001b[1;33m\u001b[0m\u001b[1;33m\u001b[0m\u001b[0m\n",
      "\u001b[1;32m~\\Anaconda3\\lib\\site-packages\\pandas\\core\\indexes\\base.py\u001b[0m in \u001b[0;36mget_loc\u001b[1;34m(self, key, method, tolerance)\u001b[0m\n\u001b[0;32m   3361\u001b[0m                 \u001b[1;32mreturn\u001b[0m \u001b[0mself\u001b[0m\u001b[1;33m.\u001b[0m\u001b[0m_engine\u001b[0m\u001b[1;33m.\u001b[0m\u001b[0mget_loc\u001b[0m\u001b[1;33m(\u001b[0m\u001b[0mcasted_key\u001b[0m\u001b[1;33m)\u001b[0m\u001b[1;33m\u001b[0m\u001b[1;33m\u001b[0m\u001b[0m\n\u001b[0;32m   3362\u001b[0m             \u001b[1;32mexcept\u001b[0m \u001b[0mKeyError\u001b[0m \u001b[1;32mas\u001b[0m \u001b[0merr\u001b[0m\u001b[1;33m:\u001b[0m\u001b[1;33m\u001b[0m\u001b[1;33m\u001b[0m\u001b[0m\n\u001b[1;32m-> 3363\u001b[1;33m                 \u001b[1;32mraise\u001b[0m \u001b[0mKeyError\u001b[0m\u001b[1;33m(\u001b[0m\u001b[0mkey\u001b[0m\u001b[1;33m)\u001b[0m \u001b[1;32mfrom\u001b[0m \u001b[0merr\u001b[0m\u001b[1;33m\u001b[0m\u001b[1;33m\u001b[0m\u001b[0m\n\u001b[0m\u001b[0;32m   3364\u001b[0m \u001b[1;33m\u001b[0m\u001b[0m\n\u001b[0;32m   3365\u001b[0m         \u001b[1;32mif\u001b[0m \u001b[0mis_scalar\u001b[0m\u001b[1;33m(\u001b[0m\u001b[0mkey\u001b[0m\u001b[1;33m)\u001b[0m \u001b[1;32mand\u001b[0m \u001b[0misna\u001b[0m\u001b[1;33m(\u001b[0m\u001b[0mkey\u001b[0m\u001b[1;33m)\u001b[0m \u001b[1;32mand\u001b[0m \u001b[1;32mnot\u001b[0m \u001b[0mself\u001b[0m\u001b[1;33m.\u001b[0m\u001b[0mhasnans\u001b[0m\u001b[1;33m:\u001b[0m\u001b[1;33m\u001b[0m\u001b[1;33m\u001b[0m\u001b[0m\n",
      "\u001b[1;31mKeyError\u001b[0m: 'Simple_Owners'"
     ]
    }
   ],
   "source": [
    "null = table.loc[pd.isnull(table['Simple_Owners']) == True]\n",
    "table = table.loc[~pd.isnull(table['Simple_Owners']) == True]"
   ]
  },
  {
   "cell_type": "code",
   "execution_count": 5,
   "metadata": {},
   "outputs": [],
   "source": [
    "null['Own_Type'] = 45"
   ]
  },
  {
   "cell_type": "code",
   "execution_count": 6,
   "metadata": {},
   "outputs": [],
   "source": [
    "table['Simple_Owners'] = table['Simple_Owners'].fillna('NoData')"
   ]
  },
  {
   "cell_type": "code",
   "execution_count": 7,
   "metadata": {},
   "outputs": [],
   "source": [
    "#initial family "
   ]
  },
  {
   "cell_type": "code",
   "execution_count": 8,
   "metadata": {},
   "outputs": [],
   "source": [
    "family = table.loc[(table['initial_class'] == 1) | (table['initial_class'] == 3)]\n",
    "other = table.loc[(table['initial_class'] != 1) & (table['initial_class'] != 3)]"
   ]
  },
  {
   "cell_type": "code",
   "execution_count": 9,
   "metadata": {},
   "outputs": [],
   "source": [
    "trust_kw = [' trust ', ' rev tr of ']"
   ]
  },
  {
   "cell_type": "code",
   "execution_count": 10,
   "metadata": {},
   "outputs": [],
   "source": [
    "trusts = other[other['Simple_Owners'].str.contains('|'.join(trust_kw))]\n",
    "other = other[~other['Simple_Owners'].str.contains('|'.join(trust_kw))]"
   ]
  },
  {
   "cell_type": "code",
   "execution_count": 11,
   "metadata": {},
   "outputs": [],
   "source": [
    "searchfor=['revocable', 'living', 'family', ' rev tr of', ' revoc trust', ' revoc ']\n",
    "family_trusts= trusts[trusts['Simple_Owners'].str.contains('|'.join(searchfor))]\n",
    "unknown_trusts= trusts[~trusts['Simple_Owners'].str.contains('|'.join(searchfor))]"
   ]
  },
  {
   "cell_type": "code",
   "execution_count": 12,
   "metadata": {},
   "outputs": [
    {
     "name": "stderr",
     "output_type": "stream",
     "text": [
      "<ipython-input-12-8392cf983357>:3: SettingWithCopyWarning: \n",
      "A value is trying to be set on a copy of a slice from a DataFrame.\n",
      "Try using .loc[row_indexer,col_indexer] = value instead\n",
      "\n",
      "See the caveats in the documentation: https://pandas.pydata.org/pandas-docs/stable/user_guide/indexing.html#returning-a-view-versus-a-copy\n",
      "  unknown_trusts['Own_Type'] = 41\n"
     ]
    }
   ],
   "source": [
    "#hard coding unk trusts\n",
    "#other=pd.concat([other, unknown_trusts])\n",
    "unknown_trusts['Own_Type'] = 41"
   ]
  },
  {
   "cell_type": "code",
   "execution_count": 13,
   "metadata": {},
   "outputs": [],
   "source": [
    "family=pd.concat([family, family_trusts])"
   ]
  },
  {
   "cell_type": "code",
   "execution_count": null,
   "metadata": {},
   "outputs": [],
   "source": []
  },
  {
   "cell_type": "code",
   "execution_count": 14,
   "metadata": {},
   "outputs": [],
   "source": [
    "#farms"
   ]
  },
  {
   "cell_type": "code",
   "execution_count": 15,
   "metadata": {},
   "outputs": [],
   "source": [
    "farms= other[other['Simple_Owners'].str.contains(\" farms \")]\n",
    "other= other[~other['Simple_Owners'].str.contains(\" farms \")]"
   ]
  },
  {
   "cell_type": "code",
   "execution_count": 16,
   "metadata": {},
   "outputs": [],
   "source": [
    "searchfor=[' family ', ' brother ', ' son ', ' daughter ']\n",
    "family_farms= farms[farms['Simple_Owners'].str.contains('|'.join(searchfor))]\n",
    "unknown_farms= farms[~farms['Simple_Owners'].str.contains('|'.join(searchfor))]"
   ]
  },
  {
   "cell_type": "code",
   "execution_count": 17,
   "metadata": {},
   "outputs": [],
   "source": [
    "family=pd.concat([family, family_farms])"
   ]
  },
  {
   "cell_type": "code",
   "execution_count": 18,
   "metadata": {},
   "outputs": [],
   "source": [
    "other=pd.concat([other, unknown_farms])"
   ]
  },
  {
   "cell_type": "code",
   "execution_count": null,
   "metadata": {},
   "outputs": [],
   "source": []
  },
  {
   "cell_type": "code",
   "execution_count": null,
   "metadata": {},
   "outputs": [],
   "source": []
  },
  {
   "cell_type": "code",
   "execution_count": null,
   "metadata": {},
   "outputs": [],
   "source": []
  },
  {
   "cell_type": "code",
   "execution_count": 21,
   "metadata": {},
   "outputs": [],
   "source": [
    "searchfor=[' family ', ' brother ', ' son ', ' daughter ']\n",
    "\n",
    "other_family_language = other[other['Simple_Owners'].str.contains('|'.join([x.lower() for x in searchfor]))]\n",
    "other= other[~other['Simple_Owners'].str.contains('|'.join([x.lower() for x in searchfor]))]"
   ]
  },
  {
   "cell_type": "code",
   "execution_count": 22,
   "metadata": {},
   "outputs": [],
   "source": [
    "family=pd.concat([family, other_family_language])"
   ]
  },
  {
   "cell_type": "code",
   "execution_count": null,
   "metadata": {},
   "outputs": [],
   "source": []
  },
  {
   "cell_type": "code",
   "execution_count": null,
   "metadata": {},
   "outputs": [],
   "source": []
  },
  {
   "cell_type": "code",
   "execution_count": 19,
   "metadata": {},
   "outputs": [],
   "source": [
    "#corprate"
   ]
  },
  {
   "cell_type": "code",
   "execution_count": 20,
   "metadata": {},
   "outputs": [],
   "source": [
    "corp_keywords=[\" BANK \", \"CORPORATION\", \"PARTICIPATION\", \"PROPERTIES\",\n",
    "          \"ASSOCIATIONS\", \"ASSOCIATES\", \" ASSOCI\", \"MAINTENANCE\", \n",
    "               \"MAINTENANC\", \"TELEPHONE\",\"ELECTRIC\", \"ENTERPRISES\", \"ENTERPRISE\", \n",
    "               \"AUTHORITY\", \"HOMEOWNERS\", \"INTERNATIONAL\", \" OFFICE\", \"INVESTMENT\", \n",
    "               \" MGMT\",\" INN\", \"ASSOCIATION\", \"ACCOUNTING\", \"MAINTEN\", \"PRODUCT\", \"MUTUAL\", \n",
    "         \" ESTATES\", \" & SONS\", \"FINANCE\", \" TITLE\", \"WIRELESS\", \"COMMUNICATION\", \n",
    "               \" SERVICE\", \"BAR & GRILL\", \" DEPT\", \" CTR\", \" LOAN\", \"SPECIALTIES\", \"BRANDS\", \" UNITED\"\n",
    "         \"CREDIT\", \" UNION\", \"CORPORATE\", \"TREASURER\", \" ADMIN\", \"UTILITIES\", \n",
    "         \"COMMERCIAL\", \" STORAGE\", \"REAL ESTATE\", \"CREDIT UNION\"]  \n",
    "\n",
    "biz_word_drop=[\" CORP\", \" LLC\", \" INC\", \" LTD\", \" HRS\", \"MGT\", \" OF \", \" CO \", \" LP\", \" MGMT\"\n",
    "               \" STE \", \" L L C\", \" L P\"]"
   ]
  },
  {
   "cell_type": "code",
   "execution_count": 23,
   "metadata": {},
   "outputs": [],
   "source": [
    "#for component in map(lambda x:x.lower(),biz_word_drop):\n",
    "      #  other_family_language['Simple_owners']=other_family_language['Simple_owners'].str.replace(component ,'')\n",
    "#other_family_language_corp = other_family_language[other_family_language['Simple_owners'].str.contains('|'.join(map(lambda x:x.lower(),corp_keywords)))]\n",
    "#other_family_language_family = other_family_language[~other_family_language['Simple_owners'].str.contains('|'.join(map(lambda x:x.lower(),corp_keywords)))]"
   ]
  },
  {
   "cell_type": "code",
   "execution_count": null,
   "metadata": {},
   "outputs": [],
   "source": [
    "corp = other[other['Simple_Owners'].str.contains('|'.join([x.lower() for x in corp_keywords_keywords]))]\n",
    "other = other[~other['Simple_Owners'].str.contains('|'.join([x.lower() for x in corp_keywords_keywords]))]"
   ]
  },
  {
   "cell_type": "code",
   "execution_count": null,
   "metadata": {},
   "outputs": [],
   "source": []
  },
  {
   "cell_type": "code",
   "execution_count": null,
   "metadata": {},
   "outputs": [],
   "source": []
  },
  {
   "cell_type": "code",
   "execution_count": null,
   "metadata": {},
   "outputs": [],
   "source": []
  },
  {
   "cell_type": "code",
   "execution_count": null,
   "metadata": {},
   "outputs": [],
   "source": [
    "#government"
   ]
  },
  {
   "cell_type": "code",
   "execution_count": 24,
   "metadata": {},
   "outputs": [],
   "source": [
    "keywords=[\" BANK \", \" CORP\", \"PARTICIPATION\", \" TRUST\", \" TRUS\", \" CO \", \" LP\"\n",
    "          \"UNIVERSITY\", \"COLLEGE\", \" CHURCH\",\" CLUB\",\n",
    "          \"BAPTISI\", \"EVANGELICAL\", \"METHODIST\", \"CATHOLIC\", \"PROPERTIES\",\n",
    "          \"ASSOCIATIONS\", \"ASSOCIATES\",\" ASSOCI\",\"SOCIETY\", \"MAINTENANCE\", \n",
    "          \"MAINTENANC\", \"ENTERPRISES\", \"ENTERPRISE\", \"AUTHORITY\", \"HOMEOWNERS\",\n",
    "         \"INTERNATIONAL\", \"INVESTMENT\", \" HOME\", \" MGMT\", \" PRESBYTERIAN\", \" INN\", \"ASSOCIATION\",\n",
    "          \" STE \", \"ACCOUNTING\", \"MAINTEN\", \"PRODUCT\", \"MUTUAL\", \n",
    "         \"ESTATES\", \"PARTNER\", \" & SONS\", \"FINANCE\", \" TITLE\", \" L P \", \" FARM\",\n",
    "         \"WIRELESS\", \"COMMUNICATION\", \" SERVICE\", \"BAR & GRILL\", \" CTR \", \" LOAN\", \"SPECIALTIES\", \"BRANDS\",\n",
    "         \"CREDIT\", \"CORPORATE\", \"TREASURER\", \" ADMIN\", \"UTILITIES\", \"COMMERCIAL\", \" STORAGE\", \"FAMILY\"]    \n",
    "\n",
    "government_keywords=[' state ', ' county ', ' federal ', ' government ', ' city of ', ' town of ',\n",
    "                     ' township ', ' department ', ' bureau ']\n",
    "\n",
    "government = other[other['Simple_Owners'].str.contains('|'.join([x.lower() for x in government_keywords]))]\n",
    "other = other[~other['Simple_Owners'].str.contains('|'.join([x.lower() for x in government_keywords]))]"
   ]
  },
  {
   "cell_type": "code",
   "execution_count": 25,
   "metadata": {},
   "outputs": [],
   "source": [
    "gov=government[~government['Simple_Owners'].str.contains('|'.join([x.lower() for x in keywords]))]\n",
    "unk_gov = government[government['Simple_Owners'].str.contains('|'.join([x.lower() for x in keywords]))]\n",
    "other = pd.concat([other, unk_gov])"
   ]
  },
  {
   "cell_type": "code",
   "execution_count": 26,
   "metadata": {},
   "outputs": [
    {
     "name": "stderr",
     "output_type": "stream",
     "text": [
      "<ipython-input-26-5a4aad64b27b>:1: SettingWithCopyWarning: \n",
      "A value is trying to be set on a copy of a slice from a DataFrame.\n",
      "Try using .loc[row_indexer,col_indexer] = value instead\n",
      "\n",
      "See the caveats in the documentation: https://pandas.pydata.org/pandas-docs/stable/user_guide/indexing.html#returning-a-view-versus-a-copy\n",
      "  gov['Own_Type'] = 0\n"
     ]
    }
   ],
   "source": [
    "gov['Own_Type'] = 0"
   ]
  },
  {
   "cell_type": "code",
   "execution_count": 27,
   "metadata": {},
   "outputs": [],
   "source": [
    "#searchfor=[' family ', ' brother ', ' son ', ' daughter ']\n",
    "#family_government= government[government['Simple_owners'].str.contains('|'.join(searchfor))]\n",
    "#unknown_government= government[~government['Simple_owners'].str.contains('|'.join(searchfor))]"
   ]
  },
  {
   "cell_type": "code",
   "execution_count": null,
   "metadata": {},
   "outputs": [],
   "source": []
  },
  {
   "cell_type": "code",
   "execution_count": null,
   "metadata": {},
   "outputs": [],
   "source": []
  },
  {
   "cell_type": "code",
   "execution_count": 28,
   "metadata": {},
   "outputs": [],
   "source": [
    "#religious"
   ]
  },
  {
   "cell_type": "code",
   "execution_count": 29,
   "metadata": {},
   "outputs": [],
   "source": [
    "rel_key_words= [' Adventist ', ' Baptist ', ' Brethren ', ' Catholic ',\n",
    "                   'Christian Church', ' Church of ', ' Episcopal ', ' Anglican ',\n",
    "                   ' Lutheran ', ' Mennonite ', ' Methodist ', ' Moravian ', 'Mormon ', \n",
    "                  ' Nazarene ', ' Orthodox ', 'Pentecostal ', ' Presbyterian ', \n",
    "                  ' Reformed Church ', 'Spiritualist ', ' Mosques ', ' Islamic Center ',\n",
    "                  ' Mosque ', ' Masjid ', ' Synagogues ', ' Temple ', ' Congregation '\n",
    "               , ' of bethlehem ', 'kingdom of god', 'christian*church']\n"
   ]
  },
  {
   "cell_type": "code",
   "execution_count": 30,
   "metadata": {},
   "outputs": [],
   "source": [
    "religious_groups = other[other['Simple_Owners'].str.contains('|'.join([x.lower() for x in rel_key_words]))]\n",
    "other = other[~other['Simple_Owners'].str.contains('|'.join([x.lower() for x in rel_key_words]))]"
   ]
  },
  {
   "cell_type": "code",
   "execution_count": 31,
   "metadata": {},
   "outputs": [],
   "source": [
    "religious_groups['Own_Type'] = 43"
   ]
  },
  {
   "cell_type": "code",
   "execution_count": null,
   "metadata": {},
   "outputs": [],
   "source": []
  },
  {
   "cell_type": "code",
   "execution_count": 32,
   "metadata": {
    "scrolled": true
   },
   "outputs": [],
   "source": [
    "family['Own_Type'] = 45"
   ]
  },
  {
   "cell_type": "code",
   "execution_count": null,
   "metadata": {},
   "outputs": [],
   "source": []
  },
  {
   "cell_type": "code",
   "execution_count": null,
   "metadata": {},
   "outputs": [],
   "source": []
  },
  {
   "cell_type": "code",
   "execution_count": null,
   "metadata": {},
   "outputs": [],
   "source": []
  },
  {
   "cell_type": "code",
   "execution_count": null,
   "metadata": {},
   "outputs": [],
   "source": []
  },
  {
   "cell_type": "code",
   "execution_count": null,
   "metadata": {},
   "outputs": [],
   "source": []
  },
  {
   "cell_type": "code",
   "execution_count": null,
   "metadata": {},
   "outputs": [],
   "source": []
  },
  {
   "cell_type": "code",
   "execution_count": null,
   "metadata": {},
   "outputs": [],
   "source": []
  },
  {
   "cell_type": "code",
   "execution_count": null,
   "metadata": {},
   "outputs": [],
   "source": []
  },
  {
   "cell_type": "code",
   "execution_count": null,
   "metadata": {},
   "outputs": [],
   "source": []
  },
  {
   "cell_type": "code",
   "execution_count": 33,
   "metadata": {},
   "outputs": [],
   "source": [
    "ckw = ['Rayonier', 'Weyerhaeuser', 'Plum Creek'] \n",
    "corporate = other[other['Simple_Owners'].str.contains('|'.join([x.lower() for x in ckw]))]\n",
    "other = other[~other['Simple_Owners'].str.contains('|'.join([x.lower() for x in ckw]))]"
   ]
  },
  {
   "cell_type": "code",
   "execution_count": 35,
   "metadata": {},
   "outputs": [],
   "source": [
    "corporate['Own_Type'] = 41"
   ]
  },
  {
   "cell_type": "code",
   "execution_count": 36,
   "metadata": {},
   "outputs": [],
   "source": [
    "kw42 = ['Nature Conservancy']\n",
    "c42 = other[other['Simple_Owners'].str.contains('|'.join([x.lower() for x in kw42]))]\n",
    "other = other[~other['Simple_Owners'].str.contains('|'.join([x.lower() for x in kw42]))]"
   ]
  },
  {
   "cell_type": "code",
   "execution_count": 37,
   "metadata": {},
   "outputs": [],
   "source": [
    "c42['Own_Type'] = 42"
   ]
  },
  {
   "cell_type": "code",
   "execution_count": 38,
   "metadata": {},
   "outputs": [],
   "source": [
    "kw43 = ['YMCA', 'YWCA', 'Boys Scouts', 'Girls Scouts']\n",
    "c43 = other[other['Simple_Owners'].str.contains('|'.join([x.lower() for x in kw43]))]\n",
    "other = other[~other['Simple_Owners'].str.contains('|'.join([x.lower() for x in kw43]))]"
   ]
  },
  {
   "cell_type": "code",
   "execution_count": 39,
   "metadata": {},
   "outputs": [],
   "source": [
    "c43['Own_Type'] = 43"
   ]
  },
  {
   "cell_type": "code",
   "execution_count": 40,
   "metadata": {},
   "outputs": [
    {
     "name": "stderr",
     "output_type": "stream",
     "text": [
      "<ipython-input-40-3c01850ad120>:2: FutureWarning: The default value of regex will change from True to False in a future version.\n",
      "  other['Simple_Owners']= other.Simple_Owners.str.replace('[^\\w\\s]', '')\n"
     ]
    }
   ],
   "source": [
    "other['Simple_Owners'] = other.Simple_Owners.map(lambda x: str(x).lower())\n",
    "other['Simple_Owners']= other.Simple_Owners.str.replace('[^\\w\\s]', '')\n",
    "other['Simple_Owners'] = other['Simple_Owners'].apply(nltk.word_tokenize)"
   ]
  },
  {
   "cell_type": "code",
   "execution_count": 41,
   "metadata": {},
   "outputs": [],
   "source": [
    "stemmer =PorterStemmer()\n",
    "other['Simple_Owners']=other['Simple_Owners'].apply(lambda x: [stemmer.stem(y) for y in x])"
   ]
  },
  {
   "cell_type": "code",
   "execution_count": 42,
   "metadata": {},
   "outputs": [],
   "source": [
    "other['Simple_Owners']=other['Simple_Owners'].apply(lambda x: ' '.join(x))"
   ]
  },
  {
   "cell_type": "code",
   "execution_count": 43,
   "metadata": {},
   "outputs": [],
   "source": [
    "count_vect = CountVectorizer()\n",
    "counts = count_vect.fit_transform(other['Simple_Owners'])"
   ]
  },
  {
   "cell_type": "code",
   "execution_count": 44,
   "metadata": {},
   "outputs": [],
   "source": [
    "transformer = TfidfTransformer().fit(counts)\n",
    "\n",
    "counts=transformer.transform(counts)"
   ]
  },
  {
   "cell_type": "code",
   "execution_count": 45,
   "metadata": {},
   "outputs": [],
   "source": [
    "count_dict = {k: v for k, v in sorted(count_vect.vocabulary_.items(), key=lambda item: item[1])}"
   ]
  },
  {
   "cell_type": "code",
   "execution_count": 46,
   "metadata": {},
   "outputs": [],
   "source": [
    "x=pd.DataFrame(counts.todense())"
   ]
  },
  {
   "cell_type": "code",
   "execution_count": 47,
   "metadata": {},
   "outputs": [],
   "source": [
    "with open(os.path.dirname(os.getcwd())+'\\\\OUTPUTS\\\\model_dict.pkl', 'rb') as handle:\n",
    "    model_dict = pickle.load(handle)"
   ]
  },
  {
   "cell_type": "code",
   "execution_count": 48,
   "metadata": {},
   "outputs": [],
   "source": [
    "model_dict = {k: v for k, v in sorted(model_dict.items(), key=lambda item: item[1])}"
   ]
  },
  {
   "cell_type": "code",
   "execution_count": 49,
   "metadata": {},
   "outputs": [],
   "source": [
    "model_df = pd.DataFrame(model_dict, index = [0])"
   ]
  },
  {
   "cell_type": "code",
   "execution_count": 50,
   "metadata": {},
   "outputs": [],
   "source": [
    "model_df = model_df.drop(0)"
   ]
  },
  {
   "cell_type": "code",
   "execution_count": 51,
   "metadata": {},
   "outputs": [
    {
     "name": "stderr",
     "output_type": "stream",
     "text": [
      "100%|█████████████████████████████████████████████████████████████████████████████| 4810/4810 [00:12<00:00, 392.14it/s]\n"
     ]
    }
   ],
   "source": [
    "from tqdm import tqdm\n",
    "for i in tqdm(list(model_dict.keys())):\n",
    "    if i in list(count_dict.keys()):\n",
    "        model_df[i] = x.iloc[:,count_dict[i]]\n",
    "    else:\n",
    "        model_df[i] = pd.Series(np.zeros((len(x))))"
   ]
  },
  {
   "cell_type": "code",
   "execution_count": 52,
   "metadata": {},
   "outputs": [],
   "source": [
    "loaded_model=pickle.load(open(os.path.dirname(os.getcwd())+'\\\\OUTPUTS\\\\classify_unknown_ownership_model.pkl', 'rb'))"
   ]
  },
  {
   "cell_type": "code",
   "execution_count": 53,
   "metadata": {},
   "outputs": [],
   "source": [
    "other['Own_Type']=loaded_model.predict(model_df)"
   ]
  },
  {
   "cell_type": "code",
   "execution_count": 54,
   "metadata": {},
   "outputs": [],
   "source": [
    "total=pd.concat([other, unknown_trusts, family, gov, religious_groups, corporate, c42, c43, null])"
   ]
  },
  {
   "cell_type": "code",
   "execution_count": null,
   "metadata": {},
   "outputs": [],
   "source": []
  },
  {
   "cell_type": "code",
   "execution_count": null,
   "metadata": {},
   "outputs": [],
   "source": []
  },
  {
   "cell_type": "code",
   "execution_count": null,
   "metadata": {},
   "outputs": [],
   "source": []
  },
  {
   "cell_type": "code",
   "execution_count": 65,
   "metadata": {},
   "outputs": [],
   "source": [
    "table=pd.read_csv(os.path.dirname(os.getcwd())+'\\\\OUTPUTS\\\\FINAL\\\\TABLES\\\\DE\\\\DELAWARE_PARCELS_FULL.csv')"
   ]
  },
  {
   "cell_type": "code",
   "execution_count": 69,
   "metadata": {},
   "outputs": [
    {
     "name": "stderr",
     "output_type": "stream",
     "text": [
      "<ipython-input-69-e8044cf8f04e>:2: FutureWarning: The default value of regex will change from True to False in a future version.\n",
      "  table['Simple_Owners']= table.Simple_Owners.str.replace('[^\\w\\s]', '')\n"
     ]
    }
   ],
   "source": [
    "table['Simple_Owners'] = table.OWN1.map(lambda x: str(x).lower())\n",
    "table['Simple_Owners']= table.Simple_Owners.str.replace('[^\\w\\s]', '')"
   ]
  },
  {
   "cell_type": "code",
   "execution_count": 71,
   "metadata": {},
   "outputs": [],
   "source": [
    "table = table.loc[table['OWNCD'] == 0]"
   ]
  },
  {
   "cell_type": "code",
   "execution_count": 91,
   "metadata": {},
   "outputs": [],
   "source": [
    "searchfor = ['FEDERAL ', 'BUREAU', 'UNITED STATES ']\n",
    "#searchfor = list(pd.read_csv(os.path.dirname(os.getcwd())+'\\\\INPUTS\\\\Federal_Agencies.csv')['Agency'].unique())\n",
    "#[searchfor.append(i) for i in ['FEDERAL ', 'BUREAU', 'UNITED STATES ']]\n",
    "#searchfor = [i.capitalize() for i in searchfor]\n",
    "fed_gov = table[table['OWN1'].str.contains('|'.join(searchfor))]\n",
    "other_gov = table[~table['OWN1'].str.contains('|'.join(searchfor))]"
   ]
  },
  {
   "cell_type": "code",
   "execution_count": 94,
   "metadata": {},
   "outputs": [],
   "source": [
    "searchfor=['State ', 'state ', 'STATE ']\n",
    "state_gov = other_gov[other_gov['OWN1'].str.contains('|'.join(searchfor))]\n",
    "local_gov = other_gov[~other_gov['OWN1'].str.contains('|'.join(searchfor))]"
   ]
  },
  {
   "cell_type": "code",
   "execution_count": null,
   "metadata": {},
   "outputs": [],
   "source": [
    "fed_gov['OWNCD'] = 'Federal'\n",
    "state_gov['OWNCD'] = 'State'\n",
    "local_gov['OWNCD'] = 'Local'"
   ]
  },
  {
   "cell_type": "code",
   "execution_count": null,
   "metadata": {},
   "outputs": [],
   "source": []
  },
  {
   "cell_type": "code",
   "execution_count": null,
   "metadata": {},
   "outputs": [],
   "source": []
  },
  {
   "cell_type": "code",
   "execution_count": 56,
   "metadata": {},
   "outputs": [],
   "source": [
    "total.to_csv(os.path.dirname(os.getcwd())+'\\\\OUTPUTS\\\\INTERMEDIATE\\\\classified_state_temp.csv')"
   ]
  },
  {
   "cell_type": "code",
   "execution_count": null,
   "metadata": {},
   "outputs": [],
   "source": [
    "print('Ownerships Classified')"
   ]
  }
 ],
 "metadata": {
  "kernelspec": {
   "display_name": "Python 3",
   "language": "python",
   "name": "python3"
  },
  "language_info": {
   "codemirror_mode": {
    "name": "ipython",
    "version": 3
   },
   "file_extension": ".py",
   "mimetype": "text/x-python",
   "name": "python",
   "nbconvert_exporter": "python",
   "pygments_lexer": "ipython3",
   "version": "3.8.11"
  }
 },
 "nbformat": 4,
 "nbformat_minor": 4
}
