{
 "cells": [
  {
   "cell_type": "code",
   "execution_count": 243,
   "metadata": {},
   "outputs": [],
   "source": [
    "import os, glob\n",
    "import pandas as pd\n",
    "import re\n",
    "import time\n"
   ]
  },
  {
   "cell_type": "code",
   "execution_count": null,
   "metadata": {},
   "outputs": [],
   "source": [
    "os.chdir(r\"C:\\Users\\harri_000\\Documents\\OwnershipMap\\Initial_Exploration\")\n",
    "table=pd.read_csv(\"joined.csv\", low_memory=False)"
   ]
  },
  {
   "cell_type": "code",
   "execution_count": 227,
   "metadata": {},
   "outputs": [],
   "source": [
    "unq=table.OWN1.unique()\n",
    "p1_count=len(table[\"OWN1\"])-len(unq)"
   ]
  },
  {
   "cell_type": "code",
   "execution_count": 250,
   "metadata": {},
   "outputs": [
    {
     "data": {
      "text/plain": [
       "range(0, 116)"
      ]
     },
     "execution_count": 250,
     "metadata": {},
     "output_type": "execute_result"
    }
   ],
   "source": [
    "NameCleaner= [\"DR.\",\"MR.\", \"MS.\", \"MRS.\", \"CAPTAIN\", \"CPT.\", \"PROF\", \"REV.\" \"COACH\", \"PROFESSOR\", \"REVEREND\" ,\"SIR\", \"LT.\", \"SGT.\"]\n",
    "\n",
    "\n",
    "abbr=pd.read_csv(\"abbr.csv\", low_memory=False, names=[\"Ab\", \"Full\"])\n",
    "\n",
    "NamesExpander={\"Chr.\": \"Christophe\"}\n",
    "for i in range(len(abbr)):\n",
    "    NamesExpander.update( {abbr[\"Ab\"][i] : abbr[\"Full\"][i]} )\n",
    "\n",
    "range(len(NamesExpander))"
   ]
  },
  {
   "cell_type": "code",
   "execution_count": 246,
   "metadata": {},
   "outputs": [],
   "source": [
    "def __calculate_name_matching(row):\n",
    "    for i in range(10000):\n",
    "        y= str(row[\"OWN1\"][i]).upper()\n",
    "        #print(1,y)\n",
    "        for clean in NameCleaner:\n",
    "            y=y.replace(clean ,'')            \n",
    "        for expand in NamesExpander:\n",
    "            y = y.replace(expand, NamesExpander[expand])\n",
    "        row[\"OWN1\"][i]=y\n",
    "        #print(2,y)\n",
    "#To remove single letters\n",
    "#y =  re.sub(r\"\\b[a-zA-Z]\\b\", \"\", y)"
   ]
  },
  {
   "cell_type": "code",
   "execution_count": 247,
   "metadata": {},
   "outputs": [],
   "source": [
    "table=pd.read_csv(\"joined.csv\", low_memory=False)"
   ]
  },
  {
   "cell_type": "code",
   "execution_count": 248,
   "metadata": {},
   "outputs": [
    {
     "name": "stderr",
     "output_type": "stream",
     "text": [
      "<ipython-input-246-e3ecc902e60b>:9: SettingWithCopyWarning: \n",
      "A value is trying to be set on a copy of a slice from a DataFrame\n",
      "\n",
      "See the caveats in the documentation: https://pandas.pydata.org/pandas-docs/stable/user_guide/indexing.html#returning-a-view-versus-a-copy\n",
      "  row[\"OWN1\"][i]=y\n"
     ]
    },
    {
     "name": "stdout",
     "output_type": "stream",
     "text": [
      "analysis complete in 54.38537907600403 seconds\n"
     ]
    }
   ],
   "source": [
    "#print(table[\"OWN1\"].head(n=20))\n",
    "t1=time.time()\n",
    "__calculate_name_matching(table)\n",
    "t2=time.time()\n",
    "#table[\"OWN1\"].head(n=100)\n",
    "print('analysis complete in '+ str(t2-t1) + ' seconds')"
   ]
  },
  {
   "cell_type": "code",
   "execution_count": 249,
   "metadata": {},
   "outputs": [
    {
     "name": "stdout",
     "output_type": "stream",
     "text": [
      "117233 117231\n"
     ]
    }
   ],
   "source": [
    "unq2=table.OWN1.unique()\n",
    "p2_count=len(table[\"OWN1\"])-len(unq2)\n",
    "\n",
    "print(p1_count, p2_count)"
   ]
  }
 ],
 "metadata": {
  "kernelspec": {
   "display_name": "Python 3",
   "language": "python",
   "name": "python3"
  },
  "language_info": {
   "codemirror_mode": {
    "name": "ipython",
    "version": 3
   },
   "file_extension": ".py",
   "mimetype": "text/x-python",
   "name": "python",
   "nbconvert_exporter": "python",
   "pygments_lexer": "ipython3",
   "version": "3.8.3"
  }
 },
 "nbformat": 4,
 "nbformat_minor": 4
}
