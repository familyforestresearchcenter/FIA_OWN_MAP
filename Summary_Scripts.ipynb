{
 "cells": [
  {
   "cell_type": "code",
   "execution_count": 1,
   "id": "6026fc2f",
   "metadata": {},
   "outputs": [],
   "source": [
    "import pandas as pd\n",
    "import os"
   ]
  },
  {
   "cell_type": "code",
   "execution_count": 2,
   "id": "c2edcec2",
   "metadata": {},
   "outputs": [
    {
     "name": "stderr",
     "output_type": "stream",
     "text": [
      "C:\\Users\\harri\\Anaconda3\\lib\\site-packages\\IPython\\core\\interactiveshell.py:3441: DtypeWarning: Columns (5,16,19,23,24,25,37) have mixed types.Specify dtype option on import or set low_memory=False.\n",
      "  exec(code_obj, self.user_global_ns, self.user_ns)\n"
     ]
    }
   ],
   "source": [
    "table = pd.read_csv(os.path.dirname(os.getcwd())+'\\\\OUTPUTS\\\\INTERMEDIATE\\\\Full_Data_Table.csv')"
   ]
  },
  {
   "cell_type": "code",
   "execution_count": 4,
   "id": "cf357593",
   "metadata": {},
   "outputs": [],
   "source": [
    "#Aggregate all relevant forest-based land cover types\n",
    "def dileneate_forests(x):\n",
    "    return (x['Deciduous Forest'] + x['Evergreen Forest']+x['Mixed Forest']+x['Woody Wetlands'])"
   ]
  },
  {
   "cell_type": "code",
   "execution_count": 5,
   "id": "cb9b6876",
   "metadata": {},
   "outputs": [],
   "source": [
    "table['Forest_Total'] = table.apply(lambda x: dileneate_forests(x), axis = 1)"
   ]
  },
  {
   "cell_type": "code",
   "execution_count": 6,
   "id": "98c42374",
   "metadata": {},
   "outputs": [],
   "source": [
    "def class_forest(x):\n",
    "    if x['Forest_Total'] > .1:\n",
    "        return 1\n",
    "    else:\n",
    "        return 0"
   ]
  },
  {
   "cell_type": "code",
   "execution_count": 7,
   "id": "642a1f08",
   "metadata": {},
   "outputs": [],
   "source": [
    "#calculating the total forested parcels owned for each unique owner\n",
    "table['Forest_Parcel'] = table.apply(lambda x: class_forest(x), axis = 1)\n",
    "fparc_dict = table.groupby(['Unq_ID']).sum()[['Forest_Parcel']].to_dict()\n",
    "table['Total_Forest_Parcels_Owned'] = table.Unq_ID.map(fparc_dict['Forest_Parcel'])"
   ]
  },
  {
   "cell_type": "code",
   "execution_count": 8,
   "id": "8a747619",
   "metadata": {},
   "outputs": [],
   "source": [
    "#Forest totals are in a percentage of total parcel area. Multiply the two gives area of forest. Divide by 4047 gives area in Acres Units\n",
    "def forest_area(x):\n",
    "    return x['Forest_Total']*x['Area']/4047"
   ]
  },
  {
   "cell_type": "code",
   "execution_count": 9,
   "id": "64283032",
   "metadata": {},
   "outputs": [],
   "source": [
    "table['Forest_Area'] = table.apply(lambda x: forest_area(x), axis =1)"
   ]
  },
  {
   "cell_type": "code",
   "execution_count": 10,
   "id": "6a718705",
   "metadata": {},
   "outputs": [],
   "source": [
    "#Forest Area per Owner (FApO) is the total forest area owned by all the individual owner's properties\n",
    "#Convert FApO to dictionary to map the values into \"Total Forested Acreas Owned\"\n",
    "FApO = table.groupby(['Unq_ID']).sum()[['Forest_Area']]\n",
    "dd = FApO.to_dict()"
   ]
  },
  {
   "cell_type": "code",
   "execution_count": 11,
   "id": "0c4f7ff5",
   "metadata": {},
   "outputs": [],
   "source": [
    "table['Total_Forest_Acres_Owned'] = table.Unq_ID.map(dd['Forest_Area'])"
   ]
  },
  {
   "cell_type": "code",
   "execution_count": null,
   "id": "e9fc420f",
   "metadata": {},
   "outputs": [],
   "source": []
  },
  {
   "cell_type": "code",
   "execution_count": 12,
   "id": "0af0c999",
   "metadata": {},
   "outputs": [],
   "source": [
    "def reclass_own_type(x):\n",
    "    if (x['Own_Type'] == 42) | (x['Own_Type'] == 43):\n",
    "        return 'Other Private'\n",
    "    elif x['Own_Type'] == 0:\n",
    "        return 'Public'\n",
    "    else:\n",
    "        return str(x['Own_Type'])"
   ]
  },
  {
   "cell_type": "code",
   "execution_count": 13,
   "id": "b9440628",
   "metadata": {},
   "outputs": [],
   "source": [
    "table['GTR-99_Code'] = table.apply(lambda x: reclass_own_type(x), axis =1)"
   ]
  },
  {
   "cell_type": "code",
   "execution_count": 14,
   "id": "28c78792",
   "metadata": {},
   "outputs": [],
   "source": [
    "#Need to creat full table and slim table as noted in the script from Jesse"
   ]
  },
  {
   "cell_type": "code",
   "execution_count": 15,
   "id": "a4acba85",
   "metadata": {},
   "outputs": [
    {
     "data": {
      "text/plain": [
       "422308"
      ]
     },
     "execution_count": 15,
     "metadata": {},
     "output_type": "execute_result"
    }
   ],
   "source": [
    "len(table.loc[pd.isnull(table['FIPS_x']) == False])"
   ]
  },
  {
   "cell_type": "code",
   "execution_count": 16,
   "id": "8d043349",
   "metadata": {},
   "outputs": [],
   "source": [
    "table['PARCELID'] = pd.Series(range(len(table))) + ('.'+table['FIPS_x'].astype(str)).astype(float)"
   ]
  },
  {
   "cell_type": "code",
   "execution_count": 17,
   "id": "e060828f",
   "metadata": {},
   "outputs": [],
   "source": [
    "state_name = table['State'].unique()[0]\n",
    "#state_name = 'DE'"
   ]
  },
  {
   "cell_type": "code",
   "execution_count": 18,
   "id": "9f68b562",
   "metadata": {},
   "outputs": [
    {
     "data": {
      "text/plain": [
       "Index(['Unnamed: 0', 'Unnamed: 0.1', 'Unnamed: 0.1.1', 'Unnamed: 0.1.1.1',\n",
       "       'OBJECTID_x', 'PARCELAPN_x', 'FIPS_x', 'PRCLDMPID', 'Area',\n",
       "       'COUNTY_FIPS', 'COUNTY_NAME', 'geometry', 'Centroid_X', 'Centroid_Y',\n",
       "       'PARCEL_AREA', 'OBJECTID_y', 'PARCELAPN_y', 'FIPS_y', 'TAXAPN',\n",
       "       'STHSNUM', 'STDIR', 'STSTNAME', 'STSUFFIX', 'STQUADRANT', 'STUNITPRFX',\n",
       "       'STUNITNUM', 'STCITY', 'STSTATE', 'STZIP', 'STZIP4', 'XCOORD', 'YCOORD',\n",
       "       'GEOSOURCE', 'ADDRSCORE', 'OWN1', 'OWN2', 'MCAREOFNAM', 'MHSNUMB',\n",
       "       'MPREDIR', 'MSTNAME', 'MMODE', 'MQUADRNT', 'MUNITPRFX', 'MUNITNUM',\n",
       "       'MCITY', 'MSTATE', 'MZIP', 'MZIP4', 'OWNPHONE', 'LOCATIONID',\n",
       "       'PROPDMPID', 'ASMTVERSID', 'State', 'Unq_ID', 'comb_addr', 'place_id',\n",
       "       'Owners', 'Simple_Owners', 'initial_class', 'Total_Parcels_Owned',\n",
       "       'Own_Type', 'JOIN_INDEX', 'Open Water', 'Developed, Open Space',\n",
       "       'Developed, Low Intensity', 'Developed, Medium Intensity',\n",
       "       'Developed, High Intensity', 'Barren Land', 'Deciduous Forest',\n",
       "       'Evergreen Forest', 'Mixed Forest', 'Shrub/Scrub', 'Herbaceuous',\n",
       "       'Hay/Pasture', 'Cultivated Crops', 'Woody Wetlands',\n",
       "       'Emergent Herbaceuous Wetlands', 'Forest_Total', 'Forest_Parcel',\n",
       "       'Total_Forest_Parcels_Owned', 'Forest_Area', 'Total_Forest_Acres_Owned',\n",
       "       'GTR-99_Code', 'PARCELID'],\n",
       "      dtype='object')"
      ]
     },
     "execution_count": 18,
     "metadata": {},
     "output_type": "execute_result"
    }
   ],
   "source": [
    "table.columns"
   ]
  },
  {
   "cell_type": "code",
   "execution_count": 19,
   "id": "399a3f92",
   "metadata": {},
   "outputs": [],
   "source": [
    "table = table.drop(['Unnamed: 0', 'Unnamed: 0.1', 'Unnamed: 0.1.1', 'Unnamed: 0.1.1.1', 'Area', \n",
    "                    'geometry', 'GTR-99_Code', 'FIPS_y', 'OBJECTID_x', 'OBJECTID_y', 'PARCELAPN_y', 'State',\n",
    "                    'comb_addr', 'place_id', 'Owners','Simple_Owners', 'initial_class'], axis=1)"
   ]
  },
  {
   "cell_type": "code",
   "execution_count": 20,
   "id": "9a0c0216",
   "metadata": {},
   "outputs": [],
   "source": [
    "table = table.rename(columns={'PARCELAPN_x': 'PARCELAPN', 'FIPS_x': 'FIPS', 'Centroid_X': 'CENTROID_LONG_EPSG4269', \n",
    "                     'Centroid_Y': 'CENTROID_LAT_EPSG4269', 'Own_Type' : 'OWNCD', 'Unq_ID' : 'OWNERSHIP_ID', \n",
    "                     'Open Water' : 'NLCD_11_PROP', 'Developed, Open Space': 'NLCD_21_PROP', 'Developed, Low Intensity': 'NLCD_22_PROP',\n",
    "                      'Developed, Medium Intensity': 'NLCD_23_PROP', 'Developed, High Intensity': 'NLCD_24_PROP',\n",
    "                      'Barren Land': 'NLCD_31_PROP', 'Deciduous Forest': 'NLCD_41_PROP', 'Evergreen Forest': 'NLCD_42_PROP',\n",
    "                      'Mixed Forest': 'NLCD_43_PROP','Shrub/Scrub': 'NLCD_52_PROP', 'Herbaceuous': 'NLCD_71_PROP',\n",
    "                      'Hay/Pasture': 'NLCD_81_PROP', 'Cultivated Crops': 'NLCD_82_PROP', 'Woody Wetlands': 'NLCD_90_PROP',\n",
    "                      'Emergent Herbaceuous Wetlands': 'NLCD_95_PROP'})"
   ]
  },
  {
   "cell_type": "code",
   "execution_count": 17,
   "id": "a89f3091",
   "metadata": {},
   "outputs": [
    {
     "ename": "FileExistsError",
     "evalue": "[WinError 183] Cannot create a file when that file already exists: 'D:\\\\Documents\\\\OwnershipMap\\\\New_Script\\\\Test_ENV\\\\OUTPUTS\\\\FINAL\\\\TABLES\\\\DE'",
     "output_type": "error",
     "traceback": [
      "\u001b[1;31m---------------------------------------------------------------------------\u001b[0m",
      "\u001b[1;31mFileExistsError\u001b[0m                           Traceback (most recent call last)",
      "\u001b[1;32m<ipython-input-17-3a7e29cf7d88>\u001b[0m in \u001b[0;36m<module>\u001b[1;34m\u001b[0m\n\u001b[1;32m----> 1\u001b[1;33m \u001b[0mos\u001b[0m\u001b[1;33m.\u001b[0m\u001b[0mmkdir\u001b[0m\u001b[1;33m(\u001b[0m\u001b[0mos\u001b[0m\u001b[1;33m.\u001b[0m\u001b[0mpath\u001b[0m\u001b[1;33m.\u001b[0m\u001b[0mdirname\u001b[0m\u001b[1;33m(\u001b[0m\u001b[0mos\u001b[0m\u001b[1;33m.\u001b[0m\u001b[0mgetcwd\u001b[0m\u001b[1;33m(\u001b[0m\u001b[1;33m)\u001b[0m\u001b[1;33m)\u001b[0m\u001b[1;33m+\u001b[0m\u001b[1;34m'\\\\OUTPUTS\\\\FINAL\\\\TABLES\\\\'\u001b[0m\u001b[1;33m+\u001b[0m\u001b[0mstate_name\u001b[0m\u001b[1;33m)\u001b[0m\u001b[1;33m\u001b[0m\u001b[1;33m\u001b[0m\u001b[0m\n\u001b[0m",
      "\u001b[1;31mFileExistsError\u001b[0m: [WinError 183] Cannot create a file when that file already exists: 'D:\\\\Documents\\\\OwnershipMap\\\\New_Script\\\\Test_ENV\\\\OUTPUTS\\\\FINAL\\\\TABLES\\\\DE'"
     ]
    }
   ],
   "source": [
    "os.mkdir(os.path.dirname(os.getcwd())+'\\\\OUTPUTS\\\\FINAL\\\\TABLES\\\\'+state_name)"
   ]
  },
  {
   "cell_type": "code",
   "execution_count": 22,
   "id": "83e133b6",
   "metadata": {},
   "outputs": [
    {
     "data": {
      "text/plain": [
       "Index(['PARCELAPN', 'FIPS', 'PRCLDMPID', 'COUNTY_FIPS', 'COUNTY_NAME',\n",
       "       'CENTROID_LONG_EPSG4269', 'CENTROID_LAT_EPSG4269', 'PARCEL_AREA',\n",
       "       'TAXAPN', 'STHSNUM', 'STDIR', 'STSTNAME', 'STSUFFIX', 'STQUADRANT',\n",
       "       'STUNITPRFX', 'STUNITNUM', 'STCITY', 'STSTATE', 'STZIP', 'STZIP4',\n",
       "       'XCOORD', 'YCOORD', 'GEOSOURCE', 'ADDRSCORE', 'OWN1', 'OWN2',\n",
       "       'MCAREOFNAM', 'MHSNUMB', 'MPREDIR', 'MSTNAME', 'MMODE', 'MQUADRNT',\n",
       "       'MUNITPRFX', 'MUNITNUM', 'MCITY', 'MSTATE', 'MZIP', 'MZIP4', 'OWNPHONE',\n",
       "       'LOCATIONID', 'PROPDMPID', 'ASMTVERSID', 'OWNERSHIP_ID',\n",
       "       'Total_Parcels_Owned', 'OWNCD', 'JOIN_INDEX', 'NLCD_11_PROP',\n",
       "       'NLCD_21_PROP', 'NLCD_22_PROP', 'NLCD_23_PROP', 'NLCD_24_PROP',\n",
       "       'NLCD_31_PROP', 'NLCD_41_PROP', 'NLCD_42_PROP', 'NLCD_43_PROP',\n",
       "       'NLCD_52_PROP', 'NLCD_71_PROP', 'NLCD_81_PROP', 'NLCD_82_PROP',\n",
       "       'NLCD_90_PROP', 'NLCD_95_PROP', 'Forest_Total', 'Forest_Parcel',\n",
       "       'Total_Forest_Parcels_Owned', 'Forest_Area', 'Total_Forest_Acres_Owned',\n",
       "       'PARCELID'],\n",
       "      dtype='object')"
      ]
     },
     "execution_count": 22,
     "metadata": {},
     "output_type": "execute_result"
    }
   ],
   "source": [
    "table.columns"
   ]
  },
  {
   "cell_type": "code",
   "execution_count": 23,
   "id": "11cd96ff",
   "metadata": {},
   "outputs": [],
   "source": [
    "table.to_csv(os.path.dirname(os.getcwd())+'\\\\OUTPUTS\\\\FINAL\\\\TABLES\\\\'+state_name+'\\\\DELAWARE_PARCELS_FULL.csv')"
   ]
  },
  {
   "cell_type": "code",
   "execution_count": 24,
   "id": "5a728982",
   "metadata": {},
   "outputs": [],
   "source": [
    "table2 = table[['JOIN_INDEX', 'PARCELID', 'PARCEL_AREA', 'CENTROID_LONG_EPSG4269', 'CENTROID_LAT_EPSG4269',\n",
    "               'FIPS', 'COUNTY_NAME', 'OWNERSHIP_ID', 'OWNCD', 'NLCD_11_PROP', 'NLCD_21_PROP', 'NLCD_22_PROP',\n",
    "                'NLCD_23_PROP', 'NLCD_24_PROP', 'NLCD_31_PROP', 'NLCD_41_PROP',\n",
    "                'NLCD_42_PROP', 'NLCD_43_PROP', 'NLCD_52_PROP', 'NLCD_71_PROP',\n",
    "                'NLCD_81_PROP', 'NLCD_82_PROP', 'NLCD_90_PROP', 'NLCD_95_PROP', \n",
    "               'Total_Parcels_Owned', 'Forest_Parcel', 'Total_Forest_Parcels_Owned', \n",
    "               'Forest_Area', 'Total_Forest_Acres_Owned']]"
   ]
  },
  {
   "cell_type": "code",
   "execution_count": 25,
   "id": "c9f801dc",
   "metadata": {},
   "outputs": [],
   "source": [
    "table2.to_csv(os.path.dirname(os.getcwd())+'\\\\OUTPUTS\\\\FINAL\\\\TABLES\\\\'+state_name+'\\\\DELAWARE_PARCELS_REDUCED.csv') "
   ]
  },
  {
   "cell_type": "code",
   "execution_count": 26,
   "id": "af50d8e5",
   "metadata": {},
   "outputs": [
    {
     "name": "stdout",
     "output_type": "stream",
     "text": [
      "DE Full and reduced tables created\n"
     ]
    }
   ],
   "source": [
    "print(state_name, \"Full and reduced tables created\")"
   ]
  }
 ],
 "metadata": {
  "kernelspec": {
   "display_name": "Python 3",
   "language": "python",
   "name": "python3"
  },
  "language_info": {
   "codemirror_mode": {
    "name": "ipython",
    "version": 3
   },
   "file_extension": ".py",
   "mimetype": "text/x-python",
   "name": "python",
   "nbconvert_exporter": "python",
   "pygments_lexer": "ipython3",
   "version": "3.8.11"
  }
 },
 "nbformat": 4,
 "nbformat_minor": 5
}
