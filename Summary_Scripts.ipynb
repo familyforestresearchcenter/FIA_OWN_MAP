{
 "cells": [
  {
   "cell_type": "code",
   "execution_count": 100,
   "id": "6026fc2f",
   "metadata": {},
   "outputs": [],
   "source": [
    "import pandas as pd\n",
    "import os"
   ]
  },
  {
   "cell_type": "code",
   "execution_count": 101,
   "id": "c2edcec2",
   "metadata": {},
   "outputs": [],
   "source": [
    "table = pd.read_csv(os.path.dirname(os.getcwd())+'\\\\OUTPUTS\\\\INTERMEDIATE\\\\Full_Data_Table.csv')"
   ]
  },
  {
   "cell_type": "code",
   "execution_count": 102,
   "id": "cf357593",
   "metadata": {},
   "outputs": [],
   "source": [
    "#Aggregate all relevant forest-based land cover types\n",
    "def dileneate_forests(x):\n",
    "    return (x['Deciduous Forest'] + x['Evergreen Forest']+x['Mixed Forest']+x['Woody Wetlands'])"
   ]
  },
  {
   "cell_type": "code",
   "execution_count": 103,
   "id": "cb9b6876",
   "metadata": {},
   "outputs": [],
   "source": [
    "table['Forest_Total'] = table.apply(lambda x: dileneate_forests(x), axis = 1)"
   ]
  },
  {
   "cell_type": "code",
   "execution_count": 104,
   "id": "98c42374",
   "metadata": {},
   "outputs": [],
   "source": [
    "def class_forest(x):\n",
    "    if x['Forest_Total'] > .1:\n",
    "        return 1\n",
    "    else:\n",
    "        return 0"
   ]
  },
  {
   "cell_type": "code",
   "execution_count": 105,
   "id": "642a1f08",
   "metadata": {},
   "outputs": [],
   "source": [
    "#calculating the total forested parcels owned for each unique owner\n",
    "table['Forest_Parcel'] = table.apply(lambda x: class_forest(x), axis = 1)\n",
    "fparc_dict = table.groupby(['Unq_ID']).sum()[['Forest_Parcel']].to_dict()\n",
    "table['Total_Forest_Parcels_Owned'] = table.Unq_ID.map(fparc_dict['Forest_Parcel'])"
   ]
  },
  {
   "cell_type": "code",
   "execution_count": 106,
   "id": "8a747619",
   "metadata": {},
   "outputs": [],
   "source": [
    "#Forest totals are in a percentage of total parcel area. Multiply the two gives area of forest. Divide by 4047 gives area in Acres Units\n",
    "def forest_area(x):\n",
    "    return x['Forest_Total']*x['Area']/4047"
   ]
  },
  {
   "cell_type": "code",
   "execution_count": 107,
   "id": "64283032",
   "metadata": {},
   "outputs": [],
   "source": [
    "table['Forest_Area'] = table.apply(lambda x: forest_area(x), axis =1)"
   ]
  },
  {
   "cell_type": "code",
   "execution_count": 108,
   "id": "6a718705",
   "metadata": {},
   "outputs": [],
   "source": [
    "#Forest Area per Owner (FApO) is the total forest area owned by all the individual owner's properties\n",
    "#Convert FApO to dictionary to map the values into \"Total Forested Acreas Owned\"\n",
    "FApO = table.groupby(['Unq_ID']).sum()[['Forest_Area']]\n",
    "dd = FApO.to_dict()"
   ]
  },
  {
   "cell_type": "code",
   "execution_count": 109,
   "id": "0c4f7ff5",
   "metadata": {},
   "outputs": [],
   "source": [
    "table['Total_Forest_Acres_Owned'] = table.Unq_ID.map(dd['Forest_Area'])"
   ]
  },
  {
   "cell_type": "code",
   "execution_count": 110,
   "id": "0af0c999",
   "metadata": {},
   "outputs": [],
   "source": [
    "def reclass_own_type(x):\n",
    "    if (x['Own_Type'] == 42) | (x['Own_Type'] == 43):\n",
    "        return 'Other Private'\n",
    "    elif x['Own_Type'] == 0:\n",
    "        return 'Public'\n",
    "    else:\n",
    "        return str(x['Own_Type'])"
   ]
  },
  {
   "cell_type": "code",
   "execution_count": 111,
   "id": "b9440628",
   "metadata": {},
   "outputs": [],
   "source": [
    "table['GTR-99_Code'] = table.apply(lambda x: reclass_own_type(x), axis =1)"
   ]
  },
  {
   "cell_type": "code",
   "execution_count": null,
   "id": "64a9df2b",
   "metadata": {},
   "outputs": [],
   "source": []
  },
  {
   "cell_type": "code",
   "execution_count": 112,
   "id": "28c78792",
   "metadata": {},
   "outputs": [],
   "source": [
    "#Need to creat full table and slim table as noted in the script from Jesse"
   ]
  },
  {
   "cell_type": "code",
   "execution_count": 113,
   "id": "8d043349",
   "metadata": {},
   "outputs": [],
   "source": [
    "table['PARCELID'] = pd.Series(range(len(table))) + ('.'+table['FIPS_x'].astype(str)).astype(float)"
   ]
  },
  {
   "cell_type": "code",
   "execution_count": 115,
   "id": "e060828f",
   "metadata": {},
   "outputs": [],
   "source": [
    "state_name = table['State'].unique()[0]\n",
    "#state_name = 'DE'"
   ]
  },
  {
   "cell_type": "code",
   "execution_count": 117,
   "id": "399a3f92",
   "metadata": {},
   "outputs": [],
   "source": [
    "table = table.drop(['Unnamed: 0', 'Unnamed: 0.1', 'Unnamed: 0.1.1', 'Unnamed: 0.1.1.1', 'Area', 'test',\n",
    "        'geometry', 'GTR-99_Code', 'FIPS_y', 'OBJECTID_x', 'OBJECTID_y', 'PARCELAPN_y', 'State', \n",
    "                   'comb_addr', 'place_id', 'Owners','Simple_Owners', 'initial_class'], axis=1)"
   ]
  },
  {
   "cell_type": "code",
   "execution_count": 118,
   "id": "9a0c0216",
   "metadata": {},
   "outputs": [],
   "source": [
    "table = table.rename(columns={'PARCELAPN_x': 'PARCELAPN', 'FIPS_x': 'FIPS', 'Centroid_X': 'CENTROID_LONG_EPSG4269', \n",
    "                     'Centroid_Y': 'CENTROID_LAT_EPSG4269', 'Own_Type' : 'OWNCD', 'Unq_ID' : 'OWNERSHIP_ID', \n",
    "                     'Open Water' : 'NLCD_11_PROP', 'Developed, Open Space': 'NLCD_21_PROP', 'Developed, Low Intensity': 'NLCD_22_PROP',\n",
    "                      'Developed, Medium Intensity': 'NLCD_23_PROP', 'Developed, High Intensity': 'NLCD_24_PROP',\n",
    "                      'Barren Land': 'NLCD_31_PROP', 'Deciduous Forest': 'NLCD_41_PROP', 'Evergreen Forest': 'NLCD_42_PROP',\n",
    "                      'Mixed Forest': 'NLCD_43_PROP','Shrub/Scrub': 'NLCD_52_PROP', 'Herbaceuous': 'NLCD_71_PROP',\n",
    "                      'Hay/Pasture': 'NLCD_81_PROP', 'Cultivated Crops': 'NLCD_82_PROP', 'Woody Wetlands': 'NLCD_90_PROP',\n",
    "                      'Emergent Herbaceuous Wetlands': 'NLCD_95_PROP'})"
   ]
  },
  {
   "cell_type": "code",
   "execution_count": 79,
   "id": "a89f3091",
   "metadata": {},
   "outputs": [],
   "source": [
    "os.mkdir(os.path.dirname(os.getcwd())+'\\\\OUTPUTS\\\\FINAL\\\\TABLES\\\\'+state_name)"
   ]
  },
  {
   "cell_type": "code",
   "execution_count": 119,
   "id": "11cd96ff",
   "metadata": {},
   "outputs": [],
   "source": [
    "table.to_csv(os.path.dirname(os.getcwd())+'\\\\OUTPUTS\\\\FINAL\\\\TABLES\\\\'+state_name+'\\\\DELAWARE_PARCELS_FULL.csv')"
   ]
  },
  {
   "cell_type": "code",
   "execution_count": 121,
   "id": "5a728982",
   "metadata": {},
   "outputs": [],
   "source": [
    "#missing the county name\n",
    "table2 = table[['PARCELID', 'PARCEL_AREA', 'CENTROID_LONG_EPSG4269', 'CENTROID_LAT_EPSG4269',\n",
    "               'FIPS', 'OWNERSHIP_ID', 'OWNCD', 'NLCD_11_PROP', 'NLCD_21_PROP', 'NLCD_22_PROP',\n",
    "                'NLCD_23_PROP', 'NLCD_24_PROP', 'NLCD_31_PROP', 'NLCD_41_PROP',\n",
    "                'NLCD_42_PROP', 'NLCD_43_PROP', 'NLCD_52_PROP', 'NLCD_71_PROP',\n",
    "                'NLCD_81_PROP', 'NLCD_82_PROP', 'NLCD_90_PROP', 'NLCD_95_PROP', \n",
    "               'Total_Parcels_Owned', 'Forest_Parcel', 'Total_Forest_Parcels_Owned', \n",
    "               'Forest_Area', 'Total_Forest_Acres_Owned']]"
   ]
  },
  {
   "cell_type": "code",
   "execution_count": 122,
   "id": "c9f801dc",
   "metadata": {},
   "outputs": [],
   "source": [
    "table2.to_csv(os.path.dirname(os.getcwd())+'\\\\OUTPUTS\\\\FINAL\\\\TABLES\\\\'+state_name+'\\\\DELAWARE_PARCELS_REDUCED.csv') "
   ]
  },
  {
   "cell_type": "code",
   "execution_count": null,
   "id": "af50d8e5",
   "metadata": {},
   "outputs": [],
   "source": [
    "print(state_name, \"Full and reduced tables created\")"
   ]
  }
 ],
 "metadata": {
  "kernelspec": {
   "display_name": "Python 3",
   "language": "python",
   "name": "python3"
  },
  "language_info": {
   "codemirror_mode": {
    "name": "ipython",
    "version": 3
   },
   "file_extension": ".py",
   "mimetype": "text/x-python",
   "name": "python",
   "nbconvert_exporter": "python",
   "pygments_lexer": "ipython3",
   "version": "3.8.11"
  }
 },
 "nbformat": 4,
 "nbformat_minor": 5
}
