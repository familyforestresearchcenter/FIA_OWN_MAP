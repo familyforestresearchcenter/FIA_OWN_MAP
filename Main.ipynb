{
 "cells": [
  {
   "cell_type": "code",
   "execution_count": 2,
   "id": "c06300c8",
   "metadata": {},
   "outputs": [
    {
     "name": "stdout",
     "output_type": "stream",
     "text": [
      "importing Jupyter notebook from Calculate_Geometry.ipynb\n",
      "importing Jupyter notebook from Add_County_Names.ipynb\n"
     ]
    }
   ],
   "source": [
    "import import_ipynb\n",
    "import os\n",
    "import Calculate_Geometry\n",
    "import Add_County_Names"
   ]
  },
  {
   "cell_type": "code",
   "execution_count": 2,
   "id": "8ff0f4af",
   "metadata": {},
   "outputs": [],
   "source": [
    "#This needs an active arcpy package on the python engine. This is tough because we need to make our python engine reference\n",
    "#the esri folder python file in the arcmap download\n",
    "#Probably should just run the sciprt once in an open arc environemnt instead\n",
    "\n",
    "#%run Arc_Processing.ipynb"
   ]
  },
  {
   "cell_type": "code",
   "execution_count": 3,
   "id": "1fb76ab7",
   "metadata": {},
   "outputs": [
    {
     "name": "stderr",
     "output_type": "stream",
     "text": [
      "<string>:13: UserWarning: Geometry is in a geographic CRS. Results from 'centroid' are likely incorrect. Use 'GeoSeries.to_crs()' to re-project geometries to a projected CRS before this operation.\n",
      "\n",
      "<ipython-input-3-43c0ca3f215d>:5: FutureWarning: The default value of regex will change from True to False in a future version.\n",
      "  table['Owners']=table['Owners'].str.replace(clean ,'')\n",
      "<ipython-input-3-43c0ca3f215d>:7: FutureWarning: The default value of regex will change from True to False in a future version.\n",
      "  table['Owners'] = table['Owners'].str.replace(expand, NamesExpander[expand])\n",
      "<ipython-input-3-37d700c9a391>:2: SettingWithCopyWarning: \n",
      "A value is trying to be set on a copy of a slice from a DataFrame.\n",
      "Try using .loc[row_indexer,col_indexer] = value instead\n",
      "\n",
      "See the caveats in the documentation: https://pandas.pydata.org/pandas-docs/stable/user_guide/indexing.html#returning-a-view-versus-a-copy\n",
      "  other['Owners'] = other.apply(lambda x: iso_biz(x[\"OWN1\"], x['OWN2']), axis = 1)\n",
      "<ipython-input-3-f8cbb7cca060>:3: SettingWithCopyWarning: \n",
      "A value is trying to be set on a copy of a slice from a DataFrame.\n",
      "Try using .loc[row_indexer,col_indexer] = value instead\n",
      "\n",
      "See the caveats in the documentation: https://pandas.pydata.org/pandas-docs/stable/user_guide/indexing.html#returning-a-view-versus-a-copy\n",
      "  other['Owners'] = other['Owners'].str.upper()\n",
      "<ipython-input-3-f8cbb7cca060>:5: SettingWithCopyWarning: \n",
      "A value is trying to be set on a copy of a slice from a DataFrame.\n",
      "Try using .loc[row_indexer,col_indexer] = value instead\n",
      "\n",
      "See the caveats in the documentation: https://pandas.pydata.org/pandas-docs/stable/user_guide/indexing.html#returning-a-view-versus-a-copy\n",
      "  other['Owners']=other['Owners'].str.replace(clean ,'')\n",
      "<ipython-input-3-f8cbb7cca060>:5: FutureWarning: The default value of regex will change from True to False in a future version.\n",
      "  other['Owners']=other['Owners'].str.replace(clean ,'')\n",
      "<ipython-input-3-f8cbb7cca060>:7: FutureWarning: The default value of regex will change from True to False in a future version.\n",
      "  other['Owners'] = other['Owners'].str.replace(expand, NamesExpander[expand])\n",
      "<ipython-input-3-f8cbb7cca060>:7: SettingWithCopyWarning: \n",
      "A value is trying to be set on a copy of a slice from a DataFrame.\n",
      "Try using .loc[row_indexer,col_indexer] = value instead\n",
      "\n",
      "See the caveats in the documentation: https://pandas.pydata.org/pandas-docs/stable/user_guide/indexing.html#returning-a-view-versus-a-copy\n",
      "  other['Owners'] = other['Owners'].str.replace(expand, NamesExpander[expand])\n",
      "<ipython-input-3-f8cbb7cca060>:9: SettingWithCopyWarning: \n",
      "A value is trying to be set on a copy of a slice from a DataFrame.\n",
      "Try using .loc[row_indexer,col_indexer] = value instead\n",
      "\n",
      "See the caveats in the documentation: https://pandas.pydata.org/pandas-docs/stable/user_guide/indexing.html#returning-a-view-versus-a-copy\n",
      "  other['Owners']=other['Owners'].str.replace(component ,'')\n",
      "<ipython-input-3-f8cbb7cca060>:11: SettingWithCopyWarning: \n",
      "A value is trying to be set on a copy of a slice from a DataFrame.\n",
      "Try using .loc[row_indexer,col_indexer] = value instead\n",
      "\n",
      "See the caveats in the documentation: https://pandas.pydata.org/pandas-docs/stable/user_guide/indexing.html#returning-a-view-versus-a-copy\n",
      "  other['Owners'] =  other['Owners'].apply(lambda x: re.sub(tmp, \"\", x))\n",
      "<ipython-input-3-f8cbb7cca060>:12: SettingWithCopyWarning: \n",
      "A value is trying to be set on a copy of a slice from a DataFrame.\n",
      "Try using .loc[row_indexer,col_indexer] = value instead\n",
      "\n",
      "See the caveats in the documentation: https://pandas.pydata.org/pandas-docs/stable/user_guide/indexing.html#returning-a-view-versus-a-copy\n",
      "  other['Owners'] = other['Owners'].apply(lambda x: (normalize_unicode_to_ascii(x)).strip())\n",
      "<ipython-input-3-f8cbb7cca060>:13: SettingWithCopyWarning: \n",
      "A value is trying to be set on a copy of a slice from a DataFrame.\n",
      "Try using .loc[row_indexer,col_indexer] = value instead\n",
      "\n",
      "See the caveats in the documentation: https://pandas.pydata.org/pandas-docs/stable/user_guide/indexing.html#returning-a-view-versus-a-copy\n",
      "  other['Owners'] = tuple(other['Owners'].str.split(\" \"))\n",
      "<ipython-input-3-f8cbb7cca060>:14: SettingWithCopyWarning: \n",
      "A value is trying to be set on a copy of a slice from a DataFrame.\n",
      "Try using .loc[row_indexer,col_indexer] = value instead\n",
      "\n",
      "See the caveats in the documentation: https://pandas.pydata.org/pandas-docs/stable/user_guide/indexing.html#returning-a-view-versus-a-copy\n",
      "  other['Owners'] = other['Owners'].apply(lambda x: generate_combinations(x))\n",
      "<ipython-input-3-ca627089f29a>:34: SettingWithCopyWarning: \n",
      "A value is trying to be set on a copy of a slice from a DataFrame.\n",
      "Try using .loc[row_indexer,col_indexer] = value instead\n",
      "\n",
      "See the caveats in the documentation: https://pandas.pydata.org/pandas-docs/stable/user_guide/indexing.html#returning-a-view-versus-a-copy\n",
      "  family['Unq_ID'] = family.comb_addr.map(uuid_dict)\n",
      "<ipython-input-3-7c13c17527e8>:4: SettingWithCopyWarning: \n",
      "A value is trying to be set on a copy of a slice from a DataFrame.\n",
      "Try using .loc[row_indexer,col_indexer] = value instead\n",
      "\n",
      "See the caveats in the documentation: https://pandas.pydata.org/pandas-docs/stable/user_guide/indexing.html#returning-a-view-versus-a-copy\n",
      "  nans['Unq_ID'] = nans.place_id.map(uuid_dict)\n",
      "<ipython-input-3-f4c4a6a1e089>:11: SettingWithCopyWarning: \n",
      "A value is trying to be set on a copy of a slice from a DataFrame.\n",
      "Try using .loc[row_indexer,col_indexer] = value instead\n",
      "\n",
      "See the caveats in the documentation: https://pandas.pydata.org/pandas-docs/stable/user_guide/indexing.html#returning-a-view-versus-a-copy\n",
      "  jrs['Unq_ID'] = jrs.comb_addr.map(uuid_dict)\n"
     ]
    },
    {
     "name": "stdout",
     "output_type": "stream",
     "text": [
      "Name Records Matched\n"
     ]
    },
    {
     "name": "stderr",
     "output_type": "stream",
     "text": [
      "<ipython-input-3-8392cf983357>:3: SettingWithCopyWarning: \n",
      "A value is trying to be set on a copy of a slice from a DataFrame.\n",
      "Try using .loc[row_indexer,col_indexer] = value instead\n",
      "\n",
      "See the caveats in the documentation: https://pandas.pydata.org/pandas-docs/stable/user_guide/indexing.html#returning-a-view-versus-a-copy\n",
      "  unknown_trusts['Own_Type'] = 41\n",
      "<ipython-input-3-5a4aad64b27b>:1: SettingWithCopyWarning: \n",
      "A value is trying to be set on a copy of a slice from a DataFrame.\n",
      "Try using .loc[row_indexer,col_indexer] = value instead\n",
      "\n",
      "See the caveats in the documentation: https://pandas.pydata.org/pandas-docs/stable/user_guide/indexing.html#returning-a-view-versus-a-copy\n",
      "  gov['Own_Type'] = 0\n",
      "<ipython-input-3-3c01850ad120>:2: FutureWarning: The default value of regex will change from True to False in a future version.\n",
      "  other['Simple_Owners']= other.Simple_Owners.str.replace('[^\\w\\s]', '')\n",
      "100%|█████████████████████████████████████████████████████████████████████████████| 4810/4810 [00:08<00:00, 565.26it/s]\n",
      "<ipython-input-3-a8677e3caf35>:1: SettingWithCopyWarning: \n",
      "A value is trying to be set on a copy of a slice from a DataFrame.\n",
      "Try using .loc[row_indexer,col_indexer] = value instead\n",
      "\n",
      "See the caveats in the documentation: https://pandas.pydata.org/pandas-docs/stable/user_guide/indexing.html#returning-a-view-versus-a-copy\n",
      "  fed_gov['Own_Type'] = 25\n",
      "<ipython-input-3-a8677e3caf35>:2: SettingWithCopyWarning: \n",
      "A value is trying to be set on a copy of a slice from a DataFrame.\n",
      "Try using .loc[row_indexer,col_indexer] = value instead\n",
      "\n",
      "See the caveats in the documentation: https://pandas.pydata.org/pandas-docs/stable/user_guide/indexing.html#returning-a-view-versus-a-copy\n",
      "  state_gov['Own_Type'] = 31\n",
      "<ipython-input-3-a8677e3caf35>:3: SettingWithCopyWarning: \n",
      "A value is trying to be set on a copy of a slice from a DataFrame.\n",
      "Try using .loc[row_indexer,col_indexer] = value instead\n",
      "\n",
      "See the caveats in the documentation: https://pandas.pydata.org/pandas-docs/stable/user_guide/indexing.html#returning-a-view-versus-a-copy\n",
      "  local_gov['Own_Type'] = 32\n"
     ]
    },
    {
     "name": "stdout",
     "output_type": "stream",
     "text": [
      "Ownerships Classified\n"
     ]
    },
    {
     "name": "stderr",
     "output_type": "stream",
     "text": [
      "C:\\Users\\harri\\Anaconda3\\lib\\site-packages\\IPython\\core\\interactiveshell.py:3441: DtypeWarning: Columns (4,15,18,22,23,24) have mixed types.Specify dtype option on import or set low_memory=False.\n",
      "  exec(code_obj, self.user_global_ns, self.user_ns)\n"
     ]
    },
    {
     "name": "stdout",
     "output_type": "stream",
     "text": [
      "Land Cover Analyzed\n"
     ]
    },
    {
     "name": "stderr",
     "output_type": "stream",
     "text": [
      "C:\\Users\\harri\\Anaconda3\\lib\\site-packages\\IPython\\core\\interactiveshell.py:3441: DtypeWarning: Columns (5,16,19,23,24,25,37) have mixed types.Specify dtype option on import or set low_memory=False.\n",
      "  exec(code_obj, self.user_global_ns, self.user_ns)\n"
     ]
    },
    {
     "name": "stdout",
     "output_type": "stream",
     "text": [
      "DE Full and reduced tables created\n"
     ]
    },
    {
     "name": "stderr",
     "output_type": "stream",
     "text": [
      "C:\\Users\\harri\\Anaconda3\\lib\\site-packages\\IPython\\core\\interactiveshell.py:3441: DtypeWarning: Columns (5,16,19,23,24,25,37) have mixed types.Specify dtype option on import or set low_memory=False.\n",
      "  exec(code_obj, self.user_global_ns, self.user_ns)\n"
     ]
    },
    {
     "name": "stdout",
     "output_type": "stream",
     "text": [
      "10810.698276758194\n"
     ]
    }
   ],
   "source": [
    "import time\n",
    "delete = ['temp.csv', 'classified_state_temp.csv', 'state_temp.csv', 'Full_Data_Table.csv', 'state_map.tif']\n",
    "for state_name in os.listdir(os.path.dirname(os.getcwd())+'\\\\OUTPUTS\\\\INTERMEDIATE'):\n",
    "    t1 = time.time()\n",
    "    path = os.path.dirname(os.getcwd())+'\\\\OUTPUTS\\\\INTERMEDIATE\\\\'+state_name\n",
    "    Add_County_Names.add_county(state_name, path)\n",
    "    table = Calculate_Geometry.calculate_geo(state_name, path)\n",
    "    table[\"State\"] = state_name\n",
    "    table.to_csv(os.path.dirname(os.getcwd())+'\\\\OUTPUTS\\\\INTERMEDIATE\\\\temp.csv')\n",
    "    %run Name_Matching.ipynb\n",
    "    %run Classify_Unknowns_Application.ipynb\n",
    "    %run Land_Cover_Analysis.ipynb\n",
    "    %run Summary_Scripts.ipynb\n",
    "    %run Ownership_Map.ipynb\n",
    "    [os.remove(os.path.dirname(os.getcwd())+'\\\\OUTPUTS\\\\INTERMEDIATE\\\\'+i) for i in delete]\n",
    "    t2 = time.time()\n",
    "    print(state_name, ' completed in : ', (t2-t1)\\3600)"
   ]
  }
 ],
 "metadata": {
  "kernelspec": {
   "display_name": "Python 3",
   "language": "python",
   "name": "python3"
  }
 },
 "nbformat": 4,
 "nbformat_minor": 5
}
